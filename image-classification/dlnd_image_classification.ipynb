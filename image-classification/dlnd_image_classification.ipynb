{
 "cells": [
  {
   "cell_type": "markdown",
   "metadata": {
    "collapsed": true,
    "deletable": true,
    "editable": true
   },
   "source": [
    "# Image Classification\n",
    "In this project, you'll classify images from the [CIFAR-10 dataset](https://www.cs.toronto.edu/~kriz/cifar.html).  The dataset consists of airplanes, dogs, cats, and other objects. You'll preprocess the images, then train a convolutional neural network on all the samples. The images need to be normalized and the labels need to be one-hot encoded.  You'll get to apply what you learned and build a convolutional, max pooling, dropout, and fully connected layers.  At the end, you'll get to see your neural network's predictions on the sample images.\n",
    "## Get the Data\n",
    "Run the following cell to download the [CIFAR-10 dataset for python](https://www.cs.toronto.edu/~kriz/cifar-10-python.tar.gz)."
   ]
  },
  {
   "cell_type": "code",
   "execution_count": null,
   "metadata": {
    "collapsed": false,
    "deletable": true,
    "editable": true
   },
   "outputs": [],
   "source": [
    "\"\"\"\n",
    "DON'T MODIFY ANYTHING IN THIS CELL THAT IS BELOW THIS LINE\n",
    "\"\"\"\n",
    "from urllib.request import urlretrieve\n",
    "from os.path import isfile, isdir\n",
    "from tqdm import tqdm\n",
    "import problem_unittests as tests\n",
    "import tarfile\n",
    "\n",
    "cifar10_dataset_folder_path = 'cifar-10-batches-py'\n",
    "\n",
    "# Use Floyd's cifar-10 dataset if present\n",
    "floyd_cifar10_location = '/input/cifar-10/python.tar.gz'\n",
    "if isfile(floyd_cifar10_location):\n",
    "    tar_gz_path = floyd_cifar10_location\n",
    "else:\n",
    "    tar_gz_path = 'cifar-10-python.tar.gz'\n",
    "\n",
    "class DLProgress(tqdm):\n",
    "    last_block = 0\n",
    "\n",
    "    def hook(self, block_num=1, block_size=1, total_size=None):\n",
    "        self.total = total_size\n",
    "        self.update((block_num - self.last_block) * block_size)\n",
    "        self.last_block = block_num\n",
    "\n",
    "if not isfile(tar_gz_path):\n",
    "    with DLProgress(unit='B', unit_scale=True, miniters=1, desc='CIFAR-10 Dataset') as pbar:\n",
    "        urlretrieve(\n",
    "            'https://www.cs.toronto.edu/~kriz/cifar-10-python.tar.gz',\n",
    "            tar_gz_path,\n",
    "            pbar.hook)\n",
    "\n",
    "if not isdir(cifar10_dataset_folder_path):\n",
    "    with tarfile.open(tar_gz_path) as tar:\n",
    "        tar.extractall()\n",
    "        tar.close()\n",
    "\n",
    "tests.test_folder_path(cifar10_dataset_folder_path)"
   ]
  },
  {
   "cell_type": "code",
   "execution_count": 1,
   "metadata": {
    "collapsed": false,
    "deletable": true,
    "editable": true
   },
   "outputs": [
    {
     "name": "stdout",
     "output_type": "stream",
     "text": [
      "All files found!\n"
     ]
    }
   ],
   "source": [
    "# I replaced the above cell with this one (assuming I already have the data in my disk)\n",
    "from urllib.request import urlretrieve\n",
    "from os.path import isfile, isdir\n",
    "from tqdm import tqdm\n",
    "import problem_unittests as tests\n",
    "cifar10_dataset_folder_path = '/home/guy/datasets/cifar-10-batches-py'\n",
    "\n",
    "tests.test_folder_path(cifar10_dataset_folder_path)\n"
   ]
  },
  {
   "cell_type": "markdown",
   "metadata": {
    "deletable": true,
    "editable": true
   },
   "source": [
    "## Explore the Data\n",
    "The dataset is broken into batches to prevent your machine from running out of memory.  The CIFAR-10 dataset consists of 5 batches, named `data_batch_1`, `data_batch_2`, etc.. Each batch contains the labels and images that are one of the following:\n",
    "* airplane\n",
    "* automobile\n",
    "* bird\n",
    "* cat\n",
    "* deer\n",
    "* dog\n",
    "* frog\n",
    "* horse\n",
    "* ship\n",
    "* truck\n",
    "\n",
    "Understanding a dataset is part of making predictions on the data.  Play around with the code cell below by changing the `batch_id` and `sample_id`. The `batch_id` is the id for a batch (1-5). The `sample_id` is the id for a image and label pair in the batch.\n",
    "\n",
    "Ask yourself \"What are all possible labels?\", \"What is the range of values for the image data?\", \"Are the labels in order or random?\".  Answers to questions like these will help you preprocess the data and end up with better predictions."
   ]
  },
  {
   "cell_type": "code",
   "execution_count": 2,
   "metadata": {
    "collapsed": false,
    "deletable": true,
    "editable": true
   },
   "outputs": [
    {
     "name": "stdout",
     "output_type": "stream",
     "text": [
      "\n",
      "Stats of batch 1:\n",
      "Samples: 10000\n",
      "Label Counts: {0: 1005, 1: 974, 2: 1032, 3: 1016, 4: 999, 5: 937, 6: 1030, 7: 1001, 8: 1025, 9: 981}\n",
      "First 20 Labels: [6, 9, 9, 4, 1, 1, 2, 7, 8, 3, 4, 7, 7, 2, 9, 9, 9, 3, 2, 6]\n",
      "\n",
      "Example of Image 5:\n",
      "Image - Min Value: 0 Max Value: 252\n",
      "Image - Shape: (32, 32, 3)\n",
      "Label - Label Id: 1 Name: automobile\n"
     ]
    },
    {
     "data": {
      "image/png": "[encoded data removed]",
      "text/plain": [
       "<matplotlib.figure.Figure at 0x7f2e1ef37d68>"
      ]
     },
     "metadata": {
      "image/png": {
       "height": 250,
       "width": 253
      }
     },
     "output_type": "display_data"
    }
   ],
   "source": [
    "%matplotlib inline\n",
    "%config InlineBackend.figure_format = 'retina'\n",
    "\n",
    "import helper\n",
    "import numpy as np\n",
    "# Explore the dataset\n",
    "batch_id = 1\n",
    "sample_id = 5\n",
    "helper.display_stats(cifar10_dataset_folder_path, batch_id, sample_id)"
   ]
  },
  {
   "cell_type": "markdown",
   "metadata": {
    "deletable": true,
    "editable": true
   },
   "source": [
    "## Implement Preprocess Functions\n",
    "### Normalize\n",
    "In the cell below, implement the `normalize` function to take in image data, `x`, and return it as a normalized Numpy array. The values should be in the range of 0 to 1, inclusive.  The return object should be the same shape as `x`."
   ]
  },
  {
   "cell_type": "code",
   "execution_count": 3,
   "metadata": {
    "collapsed": false,
    "deletable": true,
    "editable": true
   },
   "outputs": [
    {
     "name": "stdout",
     "output_type": "stream",
     "text": [
      "Tests Passed\n"
     ]
    }
   ],
   "source": [
    "def normalize(x):\n",
    "    \"\"\"\n",
    "    Normalize a list of sample image data in the range of 0 to 1\n",
    "    : x: List of image data.  The image shape is (32, 32, 3)\n",
    "    : return: Numpy array of normalize data\n",
    "    \"\"\"\n",
    "    # TODO: Implement Function\n",
    "    return x/np.max(x)\n",
    "\n",
    "\n",
    "\"\"\"\n",
    "DON'T MODIFY ANYTHING IN THIS CELL THAT IS BELOW THIS LINE\n",
    "\"\"\"\n",
    "tests.test_normalize(normalize)"
   ]
  },
  {
   "cell_type": "markdown",
   "metadata": {
    "deletable": true,
    "editable": true
   },
   "source": [
    "### One-hot encode\n",
    "Just like the previous code cell, you'll be implementing a function for preprocessing.  This time, you'll implement the `one_hot_encode` function. The input, `x`, are a list of labels.  Implement the function to return the list of labels as One-Hot encoded Numpy array.  The possible values for labels are 0 to 9. The one-hot encoding function should return the same encoding for each value between each call to `one_hot_encode`.  Make sure to save the map of encodings outside the function.\n",
    "\n",
    "Hint: Don't reinvent the wheel."
   ]
  },
  {
   "cell_type": "code",
   "execution_count": 4,
   "metadata": {
    "collapsed": false,
    "deletable": true,
    "editable": true
   },
   "outputs": [
    {
     "name": "stdout",
     "output_type": "stream",
     "text": [
      "Tests Passed\n"
     ]
    }
   ],
   "source": [
    "def one_hot_encode(x):\n",
    "    \"\"\"\n",
    "    One hot encode a list of sample labels. Return a one-hot encoded vector for each label.\n",
    "    : x: List of sample Labels\n",
    "    : return: Numpy array of one-hot encoded labels\n",
    "    \"\"\"\n",
    "    # TODO: Implement Function\n",
    "    n_values=10\n",
    "    labels=np.arange(n_values)\n",
    "    return np.eye(n_values)[x]\n",
    "\n",
    "\n",
    "\n",
    "\"\"\"\n",
    "DON'T MODIFY ANYTHING IN THIS CELL THAT IS BELOW THIS LINE\n",
    "\"\"\"\n",
    "tests.test_one_hot_encode(one_hot_encode)"
   ]
  },
  {
   "cell_type": "markdown",
   "metadata": {
    "deletable": true,
    "editable": true
   },
   "source": [
    "### Randomize Data\n",
    "As you saw from exploring the data above, the order of the samples are randomized.  It doesn't hurt to randomize it again, but you don't need to for this dataset."
   ]
  },
  {
   "cell_type": "markdown",
   "metadata": {
    "deletable": true,
    "editable": true
   },
   "source": [
    "## Preprocess all the data and save it\n",
    "Running the code cell below will preprocess all the CIFAR-10 data and save it to file. The code below also uses 10% of the training data for validation."
   ]
  },
  {
   "cell_type": "code",
   "execution_count": 5,
   "metadata": {
    "collapsed": false,
    "deletable": true,
    "editable": true
   },
   "outputs": [],
   "source": [
    "\"\"\"\n",
    "DON'T MODIFY ANYTHING IN THIS CELL\n",
    "\"\"\"\n",
    "# Preprocess Training, Validation, and Testing Data\n",
    "helper.preprocess_and_save_data(cifar10_dataset_folder_path, normalize, one_hot_encode)"
   ]
  },
  {
   "cell_type": "markdown",
   "metadata": {
    "deletable": true,
    "editable": true
   },
   "source": [
    "# Check Point\n",
    "This is your first checkpoint.  If you ever decide to come back to this notebook or have to restart the notebook, you can start from here.  The preprocessed data has been saved to disk."
   ]
  },
  {
   "cell_type": "code",
   "execution_count": 6,
   "metadata": {
    "collapsed": true,
    "deletable": true,
    "editable": true
   },
   "outputs": [],
   "source": [
    "\"\"\"\n",
    "DON'T MODIFY ANYTHING IN THIS CELL\n",
    "\"\"\"\n",
    "import pickle\n",
    "import problem_unittests as tests\n",
    "import helper\n",
    "\n",
    "# Load the Preprocessed Validation data\n",
    "valid_features, valid_labels = pickle.load(open('preprocess_validation.p', mode='rb'))"
   ]
  },
  {
   "cell_type": "markdown",
   "metadata": {
    "deletable": true,
    "editable": true
   },
   "source": [
    "## Build the network\n",
    "For the neural network, you'll build each layer into a function.  Most of the code you've seen has been outside of functions. To test your code more thoroughly, we require that you put each layer in a function.  This allows us to give you better feedback and test for simple mistakes using our unittests before you submit your project.\n",
    "\n",
    ">**Note:** If you're finding it hard to dedicate enough time for this course each week, we've provided a small shortcut to this part of the project. In the next couple of problems, you'll have the option to use classes from the [TensorFlow Layers](https://www.tensorflow.org/api_docs/python/tf/layers) or [TensorFlow Layers (contrib)](https://www.tensorflow.org/api_guides/python/contrib.layers) packages to build each layer, except the layers you build in the \"Convolutional and Max Pooling Layer\" section.  TF Layers is similar to Keras's and TFLearn's abstraction to layers, so it's easy to pickup.\n",
    "\n",
    ">However, if you would like to get the most out of this course, try to solve all the problems _without_ using anything from the TF Layers packages. You **can** still use classes from other packages that happen to have the same name as ones you find in TF Layers! For example, instead of using the TF Layers version of the `conv2d` class, [tf.layers.conv2d](https://www.tensorflow.org/api_docs/python/tf/layers/conv2d), you would want to use the TF Neural Network version of `conv2d`, [tf.nn.conv2d](https://www.tensorflow.org/api_docs/python/tf/nn/conv2d). \n",
    "\n",
    "Let's begin!\n",
    "\n",
    "### Input\n",
    "The neural network needs to read the image data, one-hot encoded labels, and dropout keep probability. Implement the following functions\n",
    "* Implement `neural_net_image_input`\n",
    " * Return a [TF Placeholder](https://www.tensorflow.org/api_docs/python/tf/placeholder)\n",
    " * Set the shape using `image_shape` with batch size set to `None`.\n",
    " * Name the TensorFlow placeholder \"x\" using the TensorFlow `name` parameter in the [TF Placeholder](https://www.tensorflow.org/api_docs/python/tf/placeholder).\n",
    "* Implement `neural_net_label_input`\n",
    " * Return a [TF Placeholder](https://www.tensorflow.org/api_docs/python/tf/placeholder)\n",
    " * Set the shape using `n_classes` with batch size set to `None`.\n",
    " * Name the TensorFlow placeholder \"y\" using the TensorFlow `name` parameter in the [TF Placeholder](https://www.tensorflow.org/api_docs/python/tf/placeholder).\n",
    "* Implement `neural_net_keep_prob_input`\n",
    " * Return a [TF Placeholder](https://www.tensorflow.org/api_docs/python/tf/placeholder) for dropout keep probability.\n",
    " * Name the TensorFlow placeholder \"keep_prob\" using the TensorFlow `name` parameter in the [TF Placeholder](https://www.tensorflow.org/api_docs/python/tf/placeholder).\n",
    "\n",
    "These names will be used at the end of the project to load your saved model.\n",
    "\n",
    "Note: `None` for shapes in TensorFlow allow for a dynamic size."
   ]
  },
  {
   "cell_type": "code",
   "execution_count": 7,
   "metadata": {
    "collapsed": false,
    "deletable": true,
    "editable": true
   },
   "outputs": [
    {
     "name": "stdout",
     "output_type": "stream",
     "text": [
      "Image Input Tests Passed.\n",
      "Label Input Tests Passed.\n",
      "Keep Prob Tests Passed.\n"
     ]
    }
   ],
   "source": [
    "import tensorflow as tf\n",
    "\n",
    "def neural_net_image_input(image_shape):\n",
    "    \"\"\"\n",
    "    Return a Tensor for a batch of image input\n",
    "    : image_shape: Shape of the images\n",
    "    : return: Tensor for image input.\n",
    "    \"\"\"\n",
    "    # TODO: Implement Function\n",
    "#    print(image_shape)\n",
    "#    print (type(image_shape))\n",
    "    return tf.placeholder(tf.float32,shape=tuple([None]+list(image_shape)),name=\"x\")\n",
    "\n",
    "\n",
    "\n",
    "def neural_net_label_input(n_classes):\n",
    "    \"\"\"\n",
    "    Return a Tensor for a batch of label input\n",
    "    : n_classes: Number of classes\n",
    "    : return: Tensor for label input.\n",
    "    \"\"\"\n",
    "    # TODO: Implement Function\n",
    "    return tf.placeholder(tf.int32,shape=(None,n_classes),name=\"y\")\n",
    "\n",
    "\n",
    "def neural_net_keep_prob_input():\n",
    "    \"\"\"\n",
    "    Return a Tensor for keep probability\n",
    "    : return: Tensor for keep probability.\n",
    "    \"\"\"\n",
    "    # TODO: Implement Function\n",
    "    return tf.placeholder(tf.float32,name=\"keep_prob\")\n",
    "\n",
    "\n",
    "\"\"\"\n",
    "DON'T MODIFY ANYTHING IN THIS CELL THAT IS BELOW THIS LINE\n",
    "\"\"\"\n",
    "tf.reset_default_graph()\n",
    "tests.test_nn_image_inputs(neural_net_image_input)\n",
    "tests.test_nn_label_inputs(neural_net_label_input)\n",
    "tests.test_nn_keep_prob_inputs(neural_net_keep_prob_input)"
   ]
  },
  {
   "cell_type": "markdown",
   "metadata": {
    "deletable": true,
    "editable": true
   },
   "source": [
    "### Convolution and Max Pooling Layer\n",
    "Convolution layers have a lot of success with images. For this code cell, you should implement the function `conv2d_maxpool` to apply convolution then max pooling:\n",
    "* Create the weight and bias using `conv_ksize`, `conv_num_outputs` and the shape of `x_tensor`.\n",
    "* Apply a convolution to `x_tensor` using weight and `conv_strides`.\n",
    " * We recommend you use same padding, but you're welcome to use any padding.\n",
    "* Add bias\n",
    "* Add a nonlinear activation to the convolution.\n",
    "* Apply Max Pooling using `pool_ksize` and `pool_strides`.\n",
    " * We recommend you use same padding, but you're welcome to use any padding.\n",
    "\n",
    "**Note:** You **can't** use [TensorFlow Layers](https://www.tensorflow.org/api_docs/python/tf/layers) or [TensorFlow Layers (contrib)](https://www.tensorflow.org/api_guides/python/contrib.layers) for **this** layer, but you can still use TensorFlow's [Neural Network](https://www.tensorflow.org/api_docs/python/tf/nn) package. You may still use the shortcut option for all the **other** layers."
   ]
  },
  {
   "cell_type": "code",
   "execution_count": 8,
   "metadata": {
    "collapsed": false,
    "deletable": true,
    "editable": true
   },
   "outputs": [
    {
     "name": "stdout",
     "output_type": "stream",
     "text": [
      "Tests Passed\n"
     ]
    }
   ],
   "source": [
    "def conv2d_maxpool(x_tensor, conv_num_outputs, conv_ksize, conv_strides, pool_ksize, pool_strides):\n",
    "    \"\"\"\n",
    "    Apply convolution then max pooling to x_tensor\n",
    "    :param x_tensor: TensorFlow Tensor\n",
    "    :param conv_num_outputs: Number of outputs for the convolutional layer\n",
    "    :param conv_ksize: kernal size 2-D Tuple for the convolutional layer\n",
    "    :param conv_strides: Stride 2-D Tuple for convolution\n",
    "    :param pool_ksize: kernal size 2-D Tuple for pool\n",
    "    :param pool_strides: Stride 2-D Tuple for pool\n",
    "    : return: A tensor that represents convolution and max pooling of x_tensor\n",
    "    \"\"\"\n",
    "    W = tf.Variable(tf.truncated_normal(list(conv_ksize)+[x_tensor.shape.as_list()[3],conv_num_outputs],stddev=0.1),name='conv_weights')\n",
    "    b= tf.Variable(tf.zeros([conv_num_outputs]),name='conv_biases')\n",
    "    out = tf.nn.conv2d(x_tensor,\n",
    "                       W,\n",
    "                       [1]+list(conv_strides)+[1],\n",
    "                       \"SAME\")\n",
    "    out=tf.nn.bias_add(out,b)\n",
    "\n",
    "    out=tf.nn.relu(out) # apply activation\n",
    "    out=tf.nn.max_pool(out,[1]+list(pool_ksize)+[1],[1]+list(pool_strides)+[1],'SAME')  # max pooling\n",
    "    return out\n",
    "\n",
    "\n",
    "\"\"\"\n",
    "DON'T MODIFY ANYTHING IN THIS CELL THAT IS BELOW THIS LINE\n",
    "\"\"\"\n",
    "tests.test_con_pool(conv2d_maxpool)"
   ]
  },
  {
   "cell_type": "markdown",
   "metadata": {
    "deletable": true,
    "editable": true
   },
   "source": [
    "### Flatten Layer\n",
    "Implement the `flatten` function to change the dimension of `x_tensor` from a 4-D tensor to a 2-D tensor.  The output should be the shape (*Batch Size*, *Flattened Image Size*). Shortcut option: you can use classes from the [TensorFlow Layers](https://www.tensorflow.org/api_docs/python/tf/layers) or [TensorFlow Layers (contrib)](https://www.tensorflow.org/api_guides/python/contrib.layers) packages for this layer. For more of a challenge, only use other TensorFlow packages."
   ]
  },
  {
   "cell_type": "code",
   "execution_count": 9,
   "metadata": {
    "collapsed": false,
    "deletable": true,
    "editable": true
   },
   "outputs": [
    {
     "name": "stdout",
     "output_type": "stream",
     "text": [
      "Tests Passed\n"
     ]
    }
   ],
   "source": [
    "def flatten(x_tensor):\n",
    "    \"\"\"\n",
    "    Flatten x_tensor to (Batch Size, Flattened Image Size)\n",
    "    : x_tensor: A tensor of size (Batch Size, ...), where ... are the image dimensions.\n",
    "    : return: A tensor of size (Batch Size, Flattened Image Size).\n",
    "    \"\"\"\n",
    "    # TODO: Implement Function\n",
    "    return tf.reshape(x_tensor,[-1,np.prod(x_tensor.shape.as_list()[1:])])\n",
    "\n",
    "\n",
    "\"\"\"\n",
    "DON'T MODIFY ANYTHING IN THIS CELL THAT IS BELOW THIS LINE\n",
    "\"\"\"\n",
    "tests.test_flatten(flatten)"
   ]
  },
  {
   "cell_type": "markdown",
   "metadata": {
    "deletable": true,
    "editable": true
   },
   "source": [
    "### Fully-Connected Layer\n",
    "Implement the `fully_conn` function to apply a fully connected layer to `x_tensor` with the shape (*Batch Size*, *num_outputs*). Shortcut option: you can use classes from the [TensorFlow Layers](https://www.tensorflow.org/api_docs/python/tf/layers) or [TensorFlow Layers (contrib)](https://www.tensorflow.org/api_guides/python/contrib.layers) packages for this layer. For more of a challenge, only use other TensorFlow packages."
   ]
  },
  {
   "cell_type": "code",
   "execution_count": 10,
   "metadata": {
    "collapsed": false,
    "deletable": true,
    "editable": true
   },
   "outputs": [
    {
     "name": "stdout",
     "output_type": "stream",
     "text": [
      "Tests Passed\n"
     ]
    }
   ],
   "source": [
    "def fully_conn(x_tensor, num_outputs):\n",
    "    \"\"\"\n",
    "    Apply a fully connected layer to x_tensor using weight and bias\n",
    "    : x_tensor: A 2-D tensor where the first dimension is batch size.\n",
    "    : num_outputs: The number of output that the new tensor should be.\n",
    "    : return: A 2-D tensor where the second dimension is num_outputs.\n",
    "    \"\"\"\n",
    "    n_features=x_tensor.shape.as_list()[1]\n",
    "    W = tf.Variable(tf.truncated_normal([n_features,num_outputs],stddev=0.1),name='fc_weights')\n",
    "    b= tf.Variable(tf.zeros([num_outputs]),name='fc_biases')\n",
    "    out=tf.matmul(x_tensor,W)\n",
    "    out=tf.nn.bias_add(out,b)\n",
    "\n",
    "    out=tf.nn.relu(out) # apply activation\n",
    "\n",
    "    return out\n",
    "\n",
    "\n",
    "\"\"\"\n",
    "DON'T MODIFY ANYTHING IN THIS CELL THAT IS BELOW THIS LINE\n",
    "\"\"\"\n",
    "tests.test_fully_conn(fully_conn)"
   ]
  },
  {
   "cell_type": "markdown",
   "metadata": {
    "deletable": true,
    "editable": true
   },
   "source": [
    "### Output Layer\n",
    "Implement the `output` function to apply a fully connected layer to `x_tensor` with the shape (*Batch Size*, *num_outputs*). Shortcut option: you can use classes from the [TensorFlow Layers](https://www.tensorflow.org/api_docs/python/tf/layers) or [TensorFlow Layers (contrib)](https://www.tensorflow.org/api_guides/python/contrib.layers) packages for this layer. For more of a challenge, only use other TensorFlow packages.\n",
    "\n",
    "**Note:** Activation, softmax, or cross entropy should **not** be applied to this."
   ]
  },
  {
   "cell_type": "code",
   "execution_count": 11,
   "metadata": {
    "collapsed": false,
    "deletable": true,
    "editable": true
   },
   "outputs": [
    {
     "name": "stdout",
     "output_type": "stream",
     "text": [
      "Tests Passed\n"
     ]
    }
   ],
   "source": [
    "def output(x_tensor, num_outputs):\n",
    "    \"\"\"\n",
    "    Apply a output layer to x_tensor using weight and bias\n",
    "    : x_tensor: A 2-D tensor where the first dimension is batch size.\n",
    "    : num_outputs: The number of output that the new tensor should be.\n",
    "    : return: A 2-D tensor where the second dimension is num_outputs.\n",
    "    \"\"\"\n",
    "    n_features=x_tensor.shape.as_list()[1]\n",
    "    W = tf.Variable(tf.truncated_normal([n_features,num_outputs],stddev=0.1),name='out_weights')\n",
    "    b= tf.Variable(tf.zeros([num_outputs]),name='out_biases')\n",
    "    out=tf.matmul(x_tensor,W)\n",
    "    out=tf.nn.bias_add(out,b)\n",
    "\n",
    "    return out\n",
    "\n",
    "\n",
    "\"\"\"\n",
    "DON'T MODIFY ANYTHING IN THIS CELL THAT IS BELOW THIS LINE\n",
    "\"\"\"\n",
    "tests.test_output(output)"
   ]
  },
  {
   "cell_type": "markdown",
   "metadata": {
    "deletable": true,
    "editable": true
   },
   "source": [
    "### Create Convolutional Model\n",
    "Implement the function `conv_net` to create a convolutional neural network model. The function takes in a batch of images, `x`, and outputs logits.  Use the layers you created above to create this model:\n",
    "\n",
    "* Apply 1, 2, or 3 Convolution and Max Pool layers\n",
    "* Apply a Flatten Layer\n",
    "* Apply 1, 2, or 3 Fully Connected Layers\n",
    "* Apply an Output Layer\n",
    "* Return the output\n",
    "* Apply [TensorFlow's Dropout](https://www.tensorflow.org/api_docs/python/tf/nn/dropout) to one or more layers in the model using `keep_prob`. "
   ]
  },
  {
   "cell_type": "code",
   "execution_count": 12,
   "metadata": {
    "collapsed": false,
    "deletable": true,
    "editable": true
   },
   "outputs": [
    {
     "name": "stdout",
     "output_type": "stream",
     "text": [
      "Neural Network Built!\n"
     ]
    }
   ],
   "source": [
    "def conv_net(x, keep_prob):\n",
    "    \"\"\"\n",
    "    Create a convolutional neural network model\n",
    "    : x: Placeholder tensor that holds image data.\n",
    "    : keep_prob: Placeholder tensor that hold dropout keep probability.\n",
    "    : return: Tensor that represents logits\n",
    "    \"\"\"\n",
    "    # TODO: Apply 1, 2, or 3 Convolution and Max Pool layers\n",
    "    #    Play around with different number of outputs, kernel size and stride\n",
    "    # Function Definition from Above:\n",
    "    #    conv2d_maxpool(x_tensor, conv_num_outputs, conv_ksize, conv_strides, pool_ksize, pool_strides)\n",
    "    layer = conv2d_maxpool(x, 64, (3,3), (1,1) ,(2,2) , (2,2))\n",
    "    layer = conv2d_maxpool(layer, 128, (3, 3), (1, 1), (2, 2), (2, 2))\n",
    "#    layer = conv2d_maxpool(layer, 256, (3, 3), (1, 1), (2, 2), (2, 2))\n",
    "\n",
    "    # TODO: Apply a Flatten Layer\n",
    "    # Function Definition from Above:\n",
    "    #   flatten(x_tensor)\n",
    "    layer = flatten(layer)\n",
    "\n",
    "\n",
    "    # TODO: Apply 1, 2, or 3 Fully Connected Layers\n",
    "    #    Play around with different number of outputs\n",
    "    # Function Definition from Above:\n",
    "    #   fully_conn(x_tensor, num_outputs)\n",
    "    layer=fully_conn(layer,128)\n",
    "    layer=tf.nn.dropout(layer,keep_prob)\n",
    "\n",
    "    # TODO: Apply an Output Layer\n",
    "    #    Set this to the number of classes\n",
    "    # Function Definition from Above:\n",
    "    #   output(x_tensor, num_outputs)\n",
    "    out=output(layer,10)\n",
    "\n",
    "    # TODO: return output\n",
    "    return out\n",
    "\n",
    "\n",
    "\"\"\"\n",
    "DON'T MODIFY ANYTHING IN THIS CELL THAT IS BELOW THIS LINE\n",
    "\"\"\"\n",
    "\n",
    "##############################\n",
    "## Build the Neural Network ##\n",
    "##############################\n",
    "\n",
    "# Remove previous weights, bias, inputs, etc..\n",
    "tf.reset_default_graph()\n",
    "\n",
    "# Inputs\n",
    "x = neural_net_image_input((32, 32, 3))\n",
    "y = neural_net_label_input(10)\n",
    "keep_prob = neural_net_keep_prob_input()\n",
    "\n",
    "# Model\n",
    "logits = conv_net(x, keep_prob)\n",
    "\n",
    "# Name logits Tensor, so that is can be loaded from disk after training\n",
    "logits = tf.identity(logits, name='logits')\n",
    "\n",
    "# Loss and Optimizer\n",
    "cost = tf.reduce_mean(tf.nn.softmax_cross_entropy_with_logits(logits=logits, labels=y))\n",
    "optimizer = tf.train.AdamOptimizer().minimize(cost)\n",
    "\n",
    "# Accuracy\n",
    "correct_pred = tf.equal(tf.argmax(logits, 1), tf.argmax(y, 1))\n",
    "accuracy = tf.reduce_mean(tf.cast(correct_pred, tf.float32), name='accuracy')\n",
    "\n",
    "tests.test_conv_net(conv_net)"
   ]
  },
  {
   "cell_type": "markdown",
   "metadata": {
    "deletable": true,
    "editable": true
   },
   "source": [
    "## Train the Neural Network\n",
    "### Single Optimization\n",
    "Implement the function `train_neural_network` to do a single optimization.  The optimization should use `optimizer` to optimize in `session` with a `feed_dict` of the following:\n",
    "* `x` for image input\n",
    "* `y` for labels\n",
    "* `keep_prob` for keep probability for dropout\n",
    "\n",
    "This function will be called for each batch, so `tf.global_variables_initializer()` has already been called.\n",
    "\n",
    "Note: Nothing needs to be returned. This function is only optimizing the neural network."
   ]
  },
  {
   "cell_type": "code",
   "execution_count": 13,
   "metadata": {
    "collapsed": false,
    "deletable": true,
    "editable": true
   },
   "outputs": [
    {
     "name": "stdout",
     "output_type": "stream",
     "text": [
      "Tests Passed\n"
     ]
    }
   ],
   "source": [
    "def train_neural_network(session, optimizer, keep_probability, feature_batch, label_batch):\n",
    "    \"\"\"\n",
    "    Optimize the session on a batch of images and labels\n",
    "    : session: Current TensorFlow session\n",
    "    : optimizer: TensorFlow optimizer function\n",
    "    : keep_probability: keep probability\n",
    "    : feature_batch: Batch of Numpy image data\n",
    "    : label_batch: Batch of Numpy label data\n",
    "    \"\"\"\n",
    "    session.run(optimizer,feed_dict={x:feature_batch,y:label_batch,keep_prob:keep_probability})\n",
    "    return\n",
    "\n",
    "\n",
    "\"\"\"\n",
    "DON'T MODIFY ANYTHING IN THIS CELL THAT IS BELOW THIS LINE\n",
    "\"\"\"\n",
    "tests.test_train_nn(train_neural_network)"
   ]
  },
  {
   "cell_type": "markdown",
   "metadata": {
    "deletable": true,
    "editable": true
   },
   "source": [
    "### Show Stats\n",
    "Implement the function `print_stats` to print loss and validation accuracy.  Use the global variables `valid_features` and `valid_labels` to calculate validation accuracy.  Use a keep probability of `1.0` to calculate the loss and validation accuracy."
   ]
  },
  {
   "cell_type": "code",
   "execution_count": 14,
   "metadata": {
    "collapsed": false,
    "deletable": true,
    "editable": true
   },
   "outputs": [],
   "source": [
    "def print_stats(session, feature_batch, label_batch, cost, accuracy):\n",
    "    \"\"\"\n",
    "    Print information about loss and validation accuracy\n",
    "    : session: Current TensorFlow session\n",
    "    : feature_batch: Batch of Numpy image data\n",
    "    : label_batch: Batch of Numpy label data\n",
    "    : cost: TensorFlow cost function\n",
    "    : accuracy: TensorFlow accuracy function\n",
    "    \"\"\"\n",
    "    Loss_valid,Acc_valid=session.run([cost,accuracy],feed_dict={x:valid_features,y:valid_labels,keep_prob:1.0})\n",
    "    print('validation loss:{} , validation accuracy:{}'.format(Loss_valid,Acc_valid))\n"
   ]
  },
  {
   "cell_type": "markdown",
   "metadata": {
    "deletable": true,
    "editable": true
   },
   "source": [
    "### Hyperparameters\n",
    "Tune the following parameters:\n",
    "* Set `epochs` to the number of iterations until the network stops learning or start overfitting\n",
    "* Set `batch_size` to the highest number that your machine has memory for.  Most people set them to common sizes of memory:\n",
    " * 64\n",
    " * 128\n",
    " * 256\n",
    " * ...\n",
    "* Set `keep_probability` to the probability of keeping a node using dropout"
   ]
  },
  {
   "cell_type": "code",
   "execution_count": 15,
   "metadata": {
    "collapsed": true,
    "deletable": true,
    "editable": true
   },
   "outputs": [],
   "source": [
    "# TODO: Tune Parameters\n",
    "epochs = 30\n",
    "batch_size = 128\n",
    "keep_probability = 0.5"
   ]
  },
  {
   "cell_type": "markdown",
   "metadata": {
    "deletable": true,
    "editable": true
   },
   "source": [
    "### Train on a Single CIFAR-10 Batch\n",
    "Instead of training the neural network on all the CIFAR-10 batches of data, let's use a single batch. This should save time while you iterate on the model to get a better accuracy.  Once the final validation accuracy is 50% or greater, run the model on all the data in the next section."
   ]
  },
  {
   "cell_type": "code",
   "execution_count": 16,
   "metadata": {
    "collapsed": false,
    "deletable": true,
    "editable": true
   },
   "outputs": [
    {
     "name": "stdout",
     "output_type": "stream",
     "text": [
      "Checking the Training on a Single Batch...\n",
      "Epoch  1, CIFAR-10 Batch 1:  validation loss:1.9075076580047607 , validation accuracy:0.343999981880188\n",
      "Epoch  2, CIFAR-10 Batch 1:  validation loss:1.6380027532577515 , validation accuracy:0.4307999312877655\n",
      "Epoch  3, CIFAR-10 Batch 1:  validation loss:1.4770456552505493 , validation accuracy:0.4753999710083008\n",
      "Epoch  4, CIFAR-10 Batch 1:  validation loss:1.3973438739776611 , validation accuracy:0.49779996275901794\n",
      "Epoch  5, CIFAR-10 Batch 1:  validation loss:1.4004145860671997 , validation accuracy:0.4975999891757965\n",
      "Epoch  6, CIFAR-10 Batch 1:  validation loss:1.3314100503921509 , validation accuracy:0.5321999788284302\n",
      "Epoch  7, CIFAR-10 Batch 1:  validation loss:1.3388279676437378 , validation accuracy:0.5333999395370483\n",
      "Epoch  8, CIFAR-10 Batch 1:  validation loss:1.2785346508026123 , validation accuracy:0.5509998798370361\n",
      "Epoch  9, CIFAR-10 Batch 1:  validation loss:1.2359248399734497 , validation accuracy:0.5665999054908752\n",
      "Epoch 10, CIFAR-10 Batch 1:  validation loss:1.2018533945083618 , validation accuracy:0.5733999013900757\n",
      "Epoch 11, CIFAR-10 Batch 1:  validation loss:1.1865966320037842 , validation accuracy:0.5767999887466431\n",
      "Epoch 12, CIFAR-10 Batch 1:  validation loss:1.1457014083862305 , validation accuracy:0.5871999263763428\n",
      "Epoch 13, CIFAR-10 Batch 1:  validation loss:1.1408085823059082 , validation accuracy:0.5899999141693115\n",
      "Epoch 14, CIFAR-10 Batch 1:  validation loss:1.1269134283065796 , validation accuracy:0.5965999364852905\n",
      "Epoch 15, CIFAR-10 Batch 1:  validation loss:1.1235737800598145 , validation accuracy:0.605199933052063\n",
      "Epoch 16, CIFAR-10 Batch 1:  validation loss:1.1343915462493896 , validation accuracy:0.6075999140739441\n",
      "Epoch 17, CIFAR-10 Batch 1:  validation loss:1.1391608715057373 , validation accuracy:0.6035999059677124\n",
      "Epoch 18, CIFAR-10 Batch 1:  validation loss:1.1806387901306152 , validation accuracy:0.5991999506950378\n",
      "Epoch 19, CIFAR-10 Batch 1:  validation loss:1.1658802032470703 , validation accuracy:0.6035999059677124\n",
      "Epoch 20, CIFAR-10 Batch 1:  validation loss:1.1499401330947876 , validation accuracy:0.6077998876571655\n",
      "Epoch 21, CIFAR-10 Batch 1:  validation loss:1.2199872732162476 , validation accuracy:0.5953999757766724\n",
      "Epoch 22, CIFAR-10 Batch 1:  validation loss:1.1571357250213623 , validation accuracy:0.6151999235153198\n",
      "Epoch 23, CIFAR-10 Batch 1:  validation loss:1.157101035118103 , validation accuracy:0.6179999113082886\n",
      "Epoch 24, CIFAR-10 Batch 1:  validation loss:1.1966874599456787 , validation accuracy:0.6181999444961548\n",
      "Epoch 25, CIFAR-10 Batch 1:  validation loss:1.1957975625991821 , validation accuracy:0.6225998401641846\n",
      "Epoch 26, CIFAR-10 Batch 1:  validation loss:1.230847954750061 , validation accuracy:0.6169999241828918\n",
      "Epoch 27, CIFAR-10 Batch 1:  validation loss:1.3104928731918335 , validation accuracy:0.6035999655723572\n",
      "Epoch 28, CIFAR-10 Batch 1:  validation loss:1.2941690683364868 , validation accuracy:0.6075999140739441\n",
      "Epoch 29, CIFAR-10 Batch 1:  validation loss:1.299759030342102 , validation accuracy:0.6089999079704285\n",
      "Epoch 30, CIFAR-10 Batch 1:  validation loss:1.3161307573318481 , validation accuracy:0.6173999309539795\n"
     ]
    }
   ],
   "source": [
    "\"\"\"\n",
    "DON'T MODIFY ANYTHING IN THIS CELL\n",
    "\"\"\"\n",
    "print('Checking the Training on a Single Batch...')\n",
    "with tf.Session() as sess:\n",
    "    # Initializing the variables\n",
    "    sess.run(tf.global_variables_initializer())\n",
    "    \n",
    "    # Training cycle\n",
    "    for epoch in range(epochs):\n",
    "        batch_i = 1\n",
    "        for batch_features, batch_labels in helper.load_preprocess_training_batch(batch_i, batch_size):\n",
    "            train_neural_network(sess, optimizer, keep_probability, batch_features, batch_labels)\n",
    "        print('Epoch {:>2}, CIFAR-10 Batch {}:  '.format(epoch + 1, batch_i), end='')\n",
    "        print_stats(sess, batch_features, batch_labels, cost, accuracy)"
   ]
  },
  {
   "cell_type": "markdown",
   "metadata": {
    "deletable": true,
    "editable": true
   },
   "source": [
    "### Fully Train the Model\n",
    "Now that you got a good accuracy with a single CIFAR-10 batch, try it with all five batches."
   ]
  },
  {
   "cell_type": "code",
   "execution_count": 17,
   "metadata": {
    "collapsed": false,
    "deletable": true,
    "editable": true
   },
   "outputs": [
    {
     "name": "stdout",
     "output_type": "stream",
     "text": [
      "Training...\n",
      "Epoch  1, CIFAR-10 Batch 1:  validation loss:1.9269840717315674 , validation accuracy:0.32179999351501465\n",
      "Epoch  1, CIFAR-10 Batch 2:  validation loss:1.7504812479019165 , validation accuracy:0.3885999917984009\n",
      "Epoch  1, CIFAR-10 Batch 3:  validation loss:1.6502389907836914 , validation accuracy:0.39619994163513184\n",
      "Epoch  1, CIFAR-10 Batch 4:  validation loss:1.5118333101272583 , validation accuracy:0.46299999952316284\n",
      "Epoch  1, CIFAR-10 Batch 5:  validation loss:1.4632459878921509 , validation accuracy:0.47199997305870056\n",
      "Epoch  2, CIFAR-10 Batch 1:  validation loss:1.41011643409729 , validation accuracy:0.49379995465278625\n",
      "Epoch  2, CIFAR-10 Batch 2:  validation loss:1.3639196157455444 , validation accuracy:0.5207999348640442\n",
      "Epoch  2, CIFAR-10 Batch 3:  validation loss:1.3357913494110107 , validation accuracy:0.5017999410629272\n",
      "Epoch  2, CIFAR-10 Batch 4:  validation loss:1.3153016567230225 , validation accuracy:0.5267999172210693\n",
      "Epoch  2, CIFAR-10 Batch 5:  validation loss:1.293233871459961 , validation accuracy:0.5341999530792236\n",
      "Epoch  3, CIFAR-10 Batch 1:  validation loss:1.2386972904205322 , validation accuracy:0.553399920463562\n",
      "Epoch  3, CIFAR-10 Batch 2:  validation loss:1.1990762948989868 , validation accuracy:0.5715999007225037\n",
      "Epoch  3, CIFAR-10 Batch 3:  validation loss:1.1906232833862305 , validation accuracy:0.5649999380111694\n",
      "Epoch  3, CIFAR-10 Batch 4:  validation loss:1.1426191329956055 , validation accuracy:0.602199912071228\n",
      "Epoch  3, CIFAR-10 Batch 5:  validation loss:1.132230281829834 , validation accuracy:0.5877999067306519\n",
      "Epoch  4, CIFAR-10 Batch 1:  validation loss:1.1158506870269775 , validation accuracy:0.606799840927124\n",
      "Epoch  4, CIFAR-10 Batch 2:  validation loss:1.1058269739151 , validation accuracy:0.6103999018669128\n",
      "Epoch  4, CIFAR-10 Batch 3:  validation loss:1.0958689451217651 , validation accuracy:0.6073999404907227\n",
      "Epoch  4, CIFAR-10 Batch 4:  validation loss:1.0484986305236816 , validation accuracy:0.622999906539917\n",
      "Epoch  4, CIFAR-10 Batch 5:  validation loss:1.066994309425354 , validation accuracy:0.6183999180793762\n",
      "Epoch  5, CIFAR-10 Batch 1:  validation loss:1.035393476486206 , validation accuracy:0.6365998983383179\n",
      "Epoch  5, CIFAR-10 Batch 2:  validation loss:1.0377049446105957 , validation accuracy:0.6329998970031738\n",
      "Epoch  5, CIFAR-10 Batch 3:  validation loss:1.043595314025879 , validation accuracy:0.6329998970031738\n",
      "Epoch  5, CIFAR-10 Batch 4:  validation loss:0.9926961064338684 , validation accuracy:0.645599901676178\n",
      "Epoch  5, CIFAR-10 Batch 5:  validation loss:1.0079104900360107 , validation accuracy:0.6469999551773071\n",
      "Epoch  6, CIFAR-10 Batch 1:  validation loss:0.9709237217903137 , validation accuracy:0.6517998576164246\n",
      "Epoch  6, CIFAR-10 Batch 2:  validation loss:0.9776337146759033 , validation accuracy:0.6625998616218567\n",
      "Epoch  6, CIFAR-10 Batch 3:  validation loss:1.0301342010498047 , validation accuracy:0.6391998529434204\n",
      "Epoch  6, CIFAR-10 Batch 4:  validation loss:0.9545488357543945 , validation accuracy:0.6659998893737793\n",
      "Epoch  6, CIFAR-10 Batch 5:  validation loss:1.0256015062332153 , validation accuracy:0.6439998745918274\n",
      "Epoch  7, CIFAR-10 Batch 1:  validation loss:0.9538919925689697 , validation accuracy:0.6579998731613159\n",
      "Epoch  7, CIFAR-10 Batch 2:  validation loss:0.959526002407074 , validation accuracy:0.6667999029159546\n",
      "Epoch  7, CIFAR-10 Batch 3:  validation loss:0.9352275133132935 , validation accuracy:0.678399920463562\n",
      "Epoch  7, CIFAR-10 Batch 4:  validation loss:0.9152687191963196 , validation accuracy:0.6735998392105103\n",
      "Epoch  7, CIFAR-10 Batch 5:  validation loss:0.9174540042877197 , validation accuracy:0.6797999143600464\n",
      "Epoch  8, CIFAR-10 Batch 1:  validation loss:0.8985469341278076 , validation accuracy:0.6817998886108398\n",
      "Epoch  8, CIFAR-10 Batch 2:  validation loss:0.9223667979240417 , validation accuracy:0.6769998669624329\n",
      "Epoch  8, CIFAR-10 Batch 3:  validation loss:0.8899589776992798 , validation accuracy:0.6901998519897461\n",
      "Epoch  8, CIFAR-10 Batch 4:  validation loss:0.9304444789886475 , validation accuracy:0.672799825668335\n",
      "Epoch  8, CIFAR-10 Batch 5:  validation loss:0.9072323441505432 , validation accuracy:0.6843999028205872\n",
      "Epoch  9, CIFAR-10 Batch 1:  validation loss:0.8773325681686401 , validation accuracy:0.694199800491333\n",
      "Epoch  9, CIFAR-10 Batch 2:  validation loss:0.9261950850486755 , validation accuracy:0.6773998737335205\n",
      "Epoch  9, CIFAR-10 Batch 3:  validation loss:0.8796325325965881 , validation accuracy:0.6955998539924622\n",
      "Epoch  9, CIFAR-10 Batch 4:  validation loss:0.8673050999641418 , validation accuracy:0.6951998472213745\n",
      "Epoch  9, CIFAR-10 Batch 5:  validation loss:0.8724336624145508 , validation accuracy:0.689599871635437\n",
      "Epoch 10, CIFAR-10 Batch 1:  validation loss:0.8763700723648071 , validation accuracy:0.6923998594284058\n",
      "Epoch 10, CIFAR-10 Batch 2:  validation loss:0.9117525815963745 , validation accuracy:0.6883997917175293\n",
      "Epoch 10, CIFAR-10 Batch 3:  validation loss:0.8423970937728882 , validation accuracy:0.7063998579978943\n",
      "Epoch 10, CIFAR-10 Batch 4:  validation loss:0.8698657751083374 , validation accuracy:0.696199893951416\n",
      "Epoch 10, CIFAR-10 Batch 5:  validation loss:0.8510826826095581 , validation accuracy:0.7031998634338379\n",
      "Epoch 11, CIFAR-10 Batch 1:  validation loss:0.8791681528091431 , validation accuracy:0.6935999393463135\n",
      "Epoch 11, CIFAR-10 Batch 2:  validation loss:0.8427943587303162 , validation accuracy:0.7095998525619507\n",
      "Epoch 11, CIFAR-10 Batch 3:  validation loss:0.8340216875076294 , validation accuracy:0.7107998132705688\n",
      "Epoch 11, CIFAR-10 Batch 4:  validation loss:0.8628998398780823 , validation accuracy:0.6987998485565186\n",
      "Epoch 11, CIFAR-10 Batch 5:  validation loss:0.8316391706466675 , validation accuracy:0.707399845123291\n",
      "Epoch 12, CIFAR-10 Batch 1:  validation loss:0.8250821828842163 , validation accuracy:0.7129998207092285\n",
      "Epoch 12, CIFAR-10 Batch 2:  validation loss:0.8461731672286987 , validation accuracy:0.7087998986244202\n",
      "Epoch 12, CIFAR-10 Batch 3:  validation loss:0.8558412790298462 , validation accuracy:0.7115998268127441\n",
      "Epoch 12, CIFAR-10 Batch 4:  validation loss:0.861709475517273 , validation accuracy:0.7043998837471008\n",
      "Epoch 12, CIFAR-10 Batch 5:  validation loss:0.8392144441604614 , validation accuracy:0.7041998505592346\n",
      "Epoch 13, CIFAR-10 Batch 1:  validation loss:0.8115301728248596 , validation accuracy:0.7257997989654541\n",
      "Epoch 13, CIFAR-10 Batch 2:  validation loss:0.8314496278762817 , validation accuracy:0.7179998755455017\n",
      "Epoch 13, CIFAR-10 Batch 3:  validation loss:0.8589800596237183 , validation accuracy:0.7039998769760132\n",
      "Epoch 13, CIFAR-10 Batch 4:  validation loss:0.8314014077186584 , validation accuracy:0.7123998403549194\n",
      "Epoch 13, CIFAR-10 Batch 5:  validation loss:0.848217248916626 , validation accuracy:0.7053998112678528\n",
      "Epoch 14, CIFAR-10 Batch 1:  validation loss:0.8266608715057373 , validation accuracy:0.7187998294830322\n",
      "Epoch 14, CIFAR-10 Batch 2:  validation loss:0.8217607140541077 , validation accuracy:0.7215998768806458\n",
      "Epoch 14, CIFAR-10 Batch 3:  validation loss:0.8213409185409546 , validation accuracy:0.7231998443603516\n",
      "Epoch 14, CIFAR-10 Batch 4:  validation loss:0.8456187844276428 , validation accuracy:0.7089998722076416\n",
      "Epoch 14, CIFAR-10 Batch 5:  validation loss:0.8338563442230225 , validation accuracy:0.7155998349189758\n",
      "Epoch 15, CIFAR-10 Batch 1:  validation loss:0.8181383609771729 , validation accuracy:0.7227998375892639\n",
      "Epoch 15, CIFAR-10 Batch 2:  validation loss:0.8059773445129395 , validation accuracy:0.727199912071228\n",
      "Epoch 15, CIFAR-10 Batch 3:  validation loss:0.8223223686218262 , validation accuracy:0.7237998843193054\n",
      "Epoch 15, CIFAR-10 Batch 4:  validation loss:0.9036659598350525 , validation accuracy:0.7033998370170593\n",
      "Epoch 15, CIFAR-10 Batch 5:  validation loss:0.824198305606842 , validation accuracy:0.7223998308181763\n",
      "Epoch 16, CIFAR-10 Batch 1:  validation loss:0.8000736236572266 , validation accuracy:0.7331998348236084\n",
      "Epoch 16, CIFAR-10 Batch 2:  validation loss:0.8270074129104614 , validation accuracy:0.7249998450279236\n",
      "Epoch 16, CIFAR-10 Batch 3:  validation loss:0.833496630191803 , validation accuracy:0.7291998267173767\n",
      "Epoch 16, CIFAR-10 Batch 4:  validation loss:0.8844289779663086 , validation accuracy:0.7013998627662659\n",
      "Epoch 16, CIFAR-10 Batch 5:  validation loss:0.8295076489448547 , validation accuracy:0.7249998450279236\n",
      "Epoch 17, CIFAR-10 Batch 1:  validation loss:0.8638240694999695 , validation accuracy:0.7195998430252075\n",
      "Epoch 17, CIFAR-10 Batch 2:  validation loss:0.8394083976745605 , validation accuracy:0.7305998206138611\n",
      "Epoch 17, CIFAR-10 Batch 3:  validation loss:0.8460181355476379 , validation accuracy:0.7247998118400574\n",
      "Epoch 17, CIFAR-10 Batch 4:  validation loss:0.8338512182235718 , validation accuracy:0.7235998511314392\n",
      "Epoch 17, CIFAR-10 Batch 5:  validation loss:0.8589770793914795 , validation accuracy:0.716799795627594\n",
      "Epoch 18, CIFAR-10 Batch 1:  validation loss:0.8291667103767395 , validation accuracy:0.7291997671127319\n",
      "Epoch 18, CIFAR-10 Batch 2:  validation loss:0.8366613984107971 , validation accuracy:0.7385998368263245\n",
      "Epoch 18, CIFAR-10 Batch 3:  validation loss:0.877577543258667 , validation accuracy:0.7151998281478882\n",
      "Epoch 18, CIFAR-10 Batch 4:  validation loss:0.8900598883628845 , validation accuracy:0.7077999114990234\n",
      "Epoch 18, CIFAR-10 Batch 5:  validation loss:0.8719315528869629 , validation accuracy:0.726399838924408\n",
      "Epoch 19, CIFAR-10 Batch 1:  validation loss:0.8608243465423584 , validation accuracy:0.7309998869895935\n",
      "Epoch 19, CIFAR-10 Batch 2:  validation loss:0.8358351588249207 , validation accuracy:0.7371998429298401\n",
      "Epoch 19, CIFAR-10 Batch 3:  validation loss:0.8631489872932434 , validation accuracy:0.7333998084068298\n",
      "Epoch 19, CIFAR-10 Batch 4:  validation loss:0.873066246509552 , validation accuracy:0.7191998362541199\n",
      "Epoch 19, CIFAR-10 Batch 5:  validation loss:0.8625390529632568 , validation accuracy:0.7251999378204346\n",
      "Epoch 20, CIFAR-10 Batch 1:  validation loss:0.8595708012580872 , validation accuracy:0.7267998456954956\n",
      "Epoch 20, CIFAR-10 Batch 2:  validation loss:0.869758129119873 , validation accuracy:0.7307998538017273\n",
      "Epoch 20, CIFAR-10 Batch 3:  validation loss:0.8826970458030701 , validation accuracy:0.7245998382568359\n",
      "Epoch 20, CIFAR-10 Batch 4:  validation loss:0.8830872774124146 , validation accuracy:0.7325998544692993\n",
      "Epoch 20, CIFAR-10 Batch 5:  validation loss:0.8789580464363098 , validation accuracy:0.7201998233795166\n",
      "Epoch 21, CIFAR-10 Batch 1:  validation loss:0.8935134410858154 , validation accuracy:0.7235998511314392\n",
      "Epoch 21, CIFAR-10 Batch 2:  validation loss:0.8720756769180298 , validation accuracy:0.7321999073028564\n",
      "Epoch 21, CIFAR-10 Batch 3:  validation loss:0.8928032517433167 , validation accuracy:0.7297998666763306\n",
      "Epoch 21, CIFAR-10 Batch 4:  validation loss:0.884514331817627 , validation accuracy:0.7295998334884644\n",
      "Epoch 21, CIFAR-10 Batch 5:  validation loss:0.88665771484375 , validation accuracy:0.7245998382568359\n",
      "Epoch 22, CIFAR-10 Batch 1:  validation loss:0.9178175330162048 , validation accuracy:0.7267998456954956\n",
      "Epoch 22, CIFAR-10 Batch 2:  validation loss:0.9234578013420105 , validation accuracy:0.7301998138427734\n",
      "Epoch 22, CIFAR-10 Batch 3:  validation loss:0.9045707583427429 , validation accuracy:0.7239999175071716\n",
      "Epoch 22, CIFAR-10 Batch 4:  validation loss:0.8827548027038574 , validation accuracy:0.7219998240470886\n",
      "Epoch 22, CIFAR-10 Batch 5:  validation loss:0.9213616847991943 , validation accuracy:0.7319997549057007\n",
      "Epoch 23, CIFAR-10 Batch 1:  validation loss:0.9308722019195557 , validation accuracy:0.7235998511314392\n",
      "Epoch 23, CIFAR-10 Batch 2:  validation loss:0.9013186693191528 , validation accuracy:0.7333998680114746\n",
      "Epoch 23, CIFAR-10 Batch 3:  validation loss:0.9191300868988037 , validation accuracy:0.7253998517990112\n",
      "Epoch 23, CIFAR-10 Batch 4:  validation loss:0.9096567630767822 , validation accuracy:0.7259999513626099\n",
      "Epoch 23, CIFAR-10 Batch 5:  validation loss:0.9079903364181519 , validation accuracy:0.7309998869895935\n",
      "Epoch 24, CIFAR-10 Batch 1:  validation loss:0.9496055841445923 , validation accuracy:0.7277998328208923\n",
      "Epoch 24, CIFAR-10 Batch 2:  validation loss:0.8858141899108887 , validation accuracy:0.7271998524665833\n",
      "Epoch 24, CIFAR-10 Batch 3:  validation loss:0.9564067721366882 , validation accuracy:0.7361998558044434\n",
      "Epoch 24, CIFAR-10 Batch 4:  validation loss:0.93292236328125 , validation accuracy:0.720599889755249\n",
      "Epoch 24, CIFAR-10 Batch 5:  validation loss:0.9244285225868225 , validation accuracy:0.7275998592376709\n",
      "Epoch 25, CIFAR-10 Batch 1:  validation loss:0.9536893963813782 , validation accuracy:0.7343997955322266\n",
      "Epoch 25, CIFAR-10 Batch 2:  validation loss:0.9423425197601318 , validation accuracy:0.7199998497962952\n",
      "Epoch 25, CIFAR-10 Batch 3:  validation loss:0.9411725997924805 , validation accuracy:0.7305998206138611\n",
      "Epoch 25, CIFAR-10 Batch 4:  validation loss:0.9571048021316528 , validation accuracy:0.7195999026298523\n",
      "Epoch 25, CIFAR-10 Batch 5:  validation loss:0.9453437328338623 , validation accuracy:0.7317997813224792\n",
      "Epoch 26, CIFAR-10 Batch 1:  validation loss:0.9997887015342712 , validation accuracy:0.7203998565673828\n",
      "Epoch 26, CIFAR-10 Batch 2:  validation loss:0.9813229441642761 , validation accuracy:0.721599817276001\n",
      "Epoch 26, CIFAR-10 Batch 3:  validation loss:0.9962852001190186 , validation accuracy:0.7293998599052429\n",
      "Epoch 26, CIFAR-10 Batch 4:  validation loss:1.009236216545105 , validation accuracy:0.7225998640060425\n",
      "Epoch 26, CIFAR-10 Batch 5:  validation loss:1.0070751905441284 , validation accuracy:0.7217998504638672\n",
      "Epoch 27, CIFAR-10 Batch 1:  validation loss:0.984862208366394 , validation accuracy:0.7259998321533203\n",
      "Epoch 27, CIFAR-10 Batch 2:  validation loss:0.9731891751289368 , validation accuracy:0.7203998565673828\n",
      "Epoch 27, CIFAR-10 Batch 3:  validation loss:1.0334815979003906 , validation accuracy:0.7251998782157898\n",
      "Epoch 27, CIFAR-10 Batch 4:  validation loss:1.0356489419937134 , validation accuracy:0.721599817276001\n",
      "Epoch 27, CIFAR-10 Batch 5:  validation loss:0.9843260645866394 , validation accuracy:0.7263998985290527\n",
      "Epoch 28, CIFAR-10 Batch 1:  validation loss:1.0438811779022217 , validation accuracy:0.7261998653411865\n",
      "Epoch 28, CIFAR-10 Batch 2:  validation loss:1.053825855255127 , validation accuracy:0.7213999032974243\n",
      "Epoch 28, CIFAR-10 Batch 3:  validation loss:1.041446566581726 , validation accuracy:0.7359998226165771\n",
      "Epoch 28, CIFAR-10 Batch 4:  validation loss:1.0127724409103394 , validation accuracy:0.7279998064041138\n",
      "Epoch 28, CIFAR-10 Batch 5:  validation loss:1.0473928451538086 , validation accuracy:0.7275997996330261\n",
      "Epoch 29, CIFAR-10 Batch 1:  validation loss:1.0704768896102905 , validation accuracy:0.7171999216079712\n",
      "Epoch 29, CIFAR-10 Batch 2:  validation loss:1.0070323944091797 , validation accuracy:0.7253998517990112\n",
      "Epoch 29, CIFAR-10 Batch 3:  validation loss:1.0310828685760498 , validation accuracy:0.7355998158454895\n",
      "Epoch 29, CIFAR-10 Batch 4:  validation loss:1.0353294610977173 , validation accuracy:0.7267998456954956\n",
      "Epoch 29, CIFAR-10 Batch 5:  validation loss:1.013309121131897 , validation accuracy:0.7311998605728149\n",
      "Epoch 30, CIFAR-10 Batch 1:  validation loss:1.053547978401184 , validation accuracy:0.7309998273849487\n",
      "Epoch 30, CIFAR-10 Batch 2:  validation loss:1.0456527471542358 , validation accuracy:0.7253998517990112\n",
      "Epoch 30, CIFAR-10 Batch 3:  validation loss:1.1463347673416138 , validation accuracy:0.7225998640060425\n",
      "Epoch 30, CIFAR-10 Batch 4:  validation loss:1.0680477619171143 , validation accuracy:0.7233998775482178\n",
      "Epoch 30, CIFAR-10 Batch 5:  validation loss:1.1396070718765259 , validation accuracy:0.7199998497962952\n"
     ]
    }
   ],
   "source": [
    "\"\"\"\n",
    "DON'T MODIFY ANYTHING IN THIS CELL\n",
    "\"\"\"\n",
    "save_model_path = './image_classification'\n",
    "\n",
    "print('Training...')\n",
    "with tf.Session() as sess:\n",
    "    # Initializing the variables\n",
    "    sess.run(tf.global_variables_initializer())\n",
    "    \n",
    "    # Training cycle\n",
    "    for epoch in range(epochs):\n",
    "        # Loop over all batches\n",
    "        n_batches = 5\n",
    "        for batch_i in range(1, n_batches + 1):\n",
    "            for batch_features, batch_labels in helper.load_preprocess_training_batch(batch_i, batch_size):\n",
    "                train_neural_network(sess, optimizer, keep_probability, batch_features, batch_labels)\n",
    "            print('Epoch {:>2}, CIFAR-10 Batch {}:  '.format(epoch + 1, batch_i), end='')\n",
    "            print_stats(sess, batch_features, batch_labels, cost, accuracy)\n",
    "            \n",
    "    # Save Model\n",
    "    saver = tf.train.Saver()\n",
    "    save_path = saver.save(sess, save_model_path)"
   ]
  },
  {
   "cell_type": "markdown",
   "metadata": {
    "deletable": true,
    "editable": true
   },
   "source": [
    "# Checkpoint\n",
    "The model has been saved to disk.\n",
    "## Test Model\n",
    "Test your model against the test dataset.  This will be your final accuracy. You should have an accuracy greater than 50%. If you don't, keep tweaking the model architecture and parameters."
   ]
  },
  {
   "cell_type": "code",
   "execution_count": 19,
   "metadata": {
    "collapsed": false,
    "deletable": true,
    "editable": true
   },
   "outputs": [
    {
     "name": "stdout",
     "output_type": "stream",
     "text": [
      "Testing Accuracy: 0.7217167721518988\n",
      "\n"
     ]
    },
    {
     "data": {
      "image/png": "[encoded data removed]",
      "text/plain": [
       "<matplotlib.figure.Figure at 0x7f2de45302b0>"
      ]
     },
     "metadata": {
      "image/png": {
       "height": 319,
       "width": 355
      }
     },
     "output_type": "display_data"
    }
   ],
   "source": [
    "\"\"\"\n",
    "DON'T MODIFY ANYTHING IN THIS CELL\n",
    "\"\"\"\n",
    "%matplotlib inline\n",
    "%config InlineBackend.figure_format = 'retina'\n",
    "\n",
    "import tensorflow as tf\n",
    "import pickle\n",
    "import helper\n",
    "import random\n",
    "\n",
    "# Set batch size if not already set\n",
    "try:\n",
    "    if batch_size:\n",
    "        pass\n",
    "except NameError:\n",
    "    batch_size = 64\n",
    "\n",
    "save_model_path = './image_classification'\n",
    "n_samples = 4\n",
    "top_n_predictions = 3\n",
    "\n",
    "def test_model():\n",
    "    \"\"\"\n",
    "    Test the saved model against the test dataset\n",
    "    \"\"\"\n",
    "\n",
    "    test_features, test_labels = pickle.load(open('preprocess_test.p', mode='rb'))\n",
    "    loaded_graph = tf.Graph()\n",
    "\n",
    "    with tf.Session(graph=loaded_graph) as sess:\n",
    "        # Load model\n",
    "        loader = tf.train.import_meta_graph(save_model_path + '.meta')\n",
    "        loader.restore(sess, save_model_path)\n",
    "\n",
    "        # Get Tensors from loaded model\n",
    "        loaded_x = loaded_graph.get_tensor_by_name('x:0')\n",
    "        loaded_y = loaded_graph.get_tensor_by_name('y:0')\n",
    "        loaded_keep_prob = loaded_graph.get_tensor_by_name('keep_prob:0')\n",
    "        loaded_logits = loaded_graph.get_tensor_by_name('logits:0')\n",
    "        loaded_acc = loaded_graph.get_tensor_by_name('accuracy:0')\n",
    "        \n",
    "        # Get accuracy in batches for memory limitations\n",
    "        test_batch_acc_total = 0\n",
    "        test_batch_count = 0\n",
    "        \n",
    "        for test_feature_batch, test_label_batch in helper.batch_features_labels(test_features, test_labels, batch_size):\n",
    "            test_batch_acc_total += sess.run(\n",
    "                loaded_acc,\n",
    "                feed_dict={loaded_x: test_feature_batch, loaded_y: test_label_batch, loaded_keep_prob: 1.0})\n",
    "            test_batch_count += 1\n",
    "\n",
    "        print('Testing Accuracy: {}\\n'.format(test_batch_acc_total/test_batch_count))\n",
    "\n",
    "        # Print Random Samples\n",
    "        random_test_features, random_test_labels = tuple(zip(*random.sample(list(zip(test_features, test_labels)), n_samples)))\n",
    "        random_test_predictions = sess.run(\n",
    "            tf.nn.top_k(tf.nn.softmax(loaded_logits), top_n_predictions),\n",
    "            feed_dict={loaded_x: random_test_features, loaded_y: random_test_labels, loaded_keep_prob: 1.0})\n",
    "        helper.display_image_predictions(random_test_features, random_test_labels, random_test_predictions)\n",
    "\n",
    "\n",
    "test_model()"
   ]
  },
  {
   "cell_type": "markdown",
   "metadata": {
    "deletable": true,
    "editable": true
   },
   "source": [
    "## Why 50-80% Accuracy?\n",
    "You might be wondering why you can't get an accuracy any higher. First things first, 50% isn't bad for a simple CNN.  Pure guessing would get you 10% accuracy. However, you might notice people are getting scores [well above 80%](http://rodrigob.github.io/are_we_there_yet/build/classification_datasets_results.html#43494641522d3130).  That's because we haven't taught you all there is to know about neural networks. We still need to cover a few more techniques.\n",
    "## Submitting This Project\n",
    "When submitting this project, make sure to run all the cells before saving the notebook.  Save the notebook file as \"dlnd_image_classification.ipynb\" and save it as a HTML file under \"File\" -> \"Download as\".  Include the \"helper.py\" and \"problem_unittests.py\" files in your submission."
   ]
  }
 ],
 "metadata": {
  "kernelspec": {
   "display_name": "Python 3",
   "language": "python",
   "name": "python3"
  },
  "language_info": {
   "codemirror_mode": {
    "name": "ipython",
    "version": 3
   },
   "file_extension": ".py",
   "mimetype": "text/x-python",
   "name": "python",
   "nbconvert_exporter": "python",
   "pygments_lexer": "ipython3",
   "version": "3.6.1"
  }
 },
 "nbformat": 4,
 "nbformat_minor": 0
}
