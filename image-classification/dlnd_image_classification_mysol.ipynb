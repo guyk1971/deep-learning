{
 "cells": [
  {
   "cell_type": "markdown",
   "metadata": {
    "collapsed": true,
    "deletable": true,
    "editable": true
   },
   "source": [
    "# Image Classification\n",
    "In this project, you'll classify images from the [CIFAR-10 dataset](https://www.cs.toronto.edu/~kriz/cifar.html).  The dataset consists of airplanes, dogs, cats, and other objects. You'll preprocess the images, then train a convolutional neural network on all the samples. The images need to be normalized and the labels need to be one-hot encoded.  You'll get to apply what you learned and build a convolutional, max pooling, dropout, and fully connected layers.  At the end, you'll get to see your neural network's predictions on the sample images.\n",
    "## Get the Data\n",
    "Run the following cell to download the [CIFAR-10 dataset for python](https://www.cs.toronto.edu/~kriz/cifar-10-python.tar.gz)."
   ]
  },
  {
   "cell_type": "code",
   "execution_count": null,
   "metadata": {
    "collapsed": false,
    "deletable": true,
    "editable": true
   },
   "outputs": [],
   "source": [
    "\"\"\"\n",
    "DON'T MODIFY ANYTHING IN THIS CELL THAT IS BELOW THIS LINE\n",
    "\"\"\"\n",
    "from urllib.request import urlretrieve\n",
    "from os.path import isfile, isdir\n",
    "from tqdm import tqdm\n",
    "import problem_unittests as tests\n",
    "import tarfile\n",
    "\n",
    "cifar10_dataset_folder_path = 'cifar-10-batches-py'\n",
    "\n",
    "# Use Floyd's cifar-10 dataset if present\n",
    "floyd_cifar10_location = '/input/cifar-10/python.tar.gz'\n",
    "if isfile(floyd_cifar10_location):\n",
    "    tar_gz_path = floyd_cifar10_location\n",
    "else:\n",
    "    tar_gz_path = 'cifar-10-python.tar.gz'\n",
    "\n",
    "class DLProgress(tqdm):\n",
    "    last_block = 0\n",
    "\n",
    "    def hook(self, block_num=1, block_size=1, total_size=None):\n",
    "        self.total = total_size\n",
    "        self.update((block_num - self.last_block) * block_size)\n",
    "        self.last_block = block_num\n",
    "\n",
    "if not isfile(tar_gz_path):\n",
    "    with DLProgress(unit='B', unit_scale=True, miniters=1, desc='CIFAR-10 Dataset') as pbar:\n",
    "        urlretrieve(\n",
    "            'https://www.cs.toronto.edu/~kriz/cifar-10-python.tar.gz',\n",
    "            tar_gz_path,\n",
    "            pbar.hook)\n",
    "\n",
    "if not isdir(cifar10_dataset_folder_path):\n",
    "    with tarfile.open(tar_gz_path) as tar:\n",
    "        tar.extractall()\n",
    "        tar.close()\n",
    "\n",
    "tests.test_folder_path(cifar10_dataset_folder_path)"
   ]
  },
  {
   "cell_type": "code",
   "execution_count": 1,
   "metadata": {
    "collapsed": false,
    "deletable": true,
    "editable": true
   },
   "outputs": [
    {
     "name": "stdout",
     "output_type": "stream",
     "text": [
      "All files found!\n"
     ]
    }
   ],
   "source": [
    "# I replaced the above cell with this one (assuming I already have the data in my disk)\n",
    "from urllib.request import urlretrieve\n",
    "from os.path import isfile, isdir\n",
    "from tqdm import tqdm\n",
    "import problem_unittests as tests\n",
    "cifar10_dataset_folder_path = '/home/guy/datasets/cifar-10-batches-py'\n",
    "\n",
    "tests.test_folder_path(cifar10_dataset_folder_path)\n"
   ]
  },
  {
   "cell_type": "markdown",
   "metadata": {
    "deletable": true,
    "editable": true
   },
   "source": [
    "## Explore the Data\n",
    "The dataset is broken into batches to prevent your machine from running out of memory.  The CIFAR-10 dataset consists of 5 batches, named `data_batch_1`, `data_batch_2`, etc.. Each batch contains the labels and images that are one of the following:\n",
    "* airplane\n",
    "* automobile\n",
    "* bird\n",
    "* cat\n",
    "* deer\n",
    "* dog\n",
    "* frog\n",
    "* horse\n",
    "* ship\n",
    "* truck\n",
    "\n",
    "Understanding a dataset is part of making predictions on the data.  Play around with the code cell below by changing the `batch_id` and `sample_id`. The `batch_id` is the id for a batch (1-5). The `sample_id` is the id for a image and label pair in the batch.\n",
    "\n",
    "Ask yourself \"What are all possible labels?\", \"What is the range of values for the image data?\", \"Are the labels in order or random?\".  Answers to questions like these will help you preprocess the data and end up with better predictions."
   ]
  },
  {
   "cell_type": "code",
   "execution_count": 2,
   "metadata": {
    "collapsed": false,
    "deletable": true,
    "editable": true
   },
   "outputs": [
    {
     "name": "stdout",
     "output_type": "stream",
     "text": [
      "\n",
      "Stats of batch 1:\n",
      "Samples: 10000\n",
      "Label Counts: {0: 1005, 1: 974, 2: 1032, 3: 1016, 4: 999, 5: 937, 6: 1030, 7: 1001, 8: 1025, 9: 981}\n",
      "First 20 Labels: [6, 9, 9, 4, 1, 1, 2, 7, 8, 3, 4, 7, 7, 2, 9, 9, 9, 3, 2, 6]\n",
      "\n",
      "Example of Image 5:\n",
      "Image - Min Value: 0 Max Value: 252\n",
      "Image - Shape: (32, 32, 3)\n",
      "Label - Label Id: 1 Name: automobile\n"
     ]
    },
    {
     "data": {
      "image/png": "[encoded data removed]",
      "text/plain": [
       "<matplotlib.figure.Figure at 0x7f0e81053cc0>"
      ]
     },
     "metadata": {
      "image/png": {
       "height": 250,
       "width": 253
      }
     },
     "output_type": "display_data"
    }
   ],
   "source": [
    "%matplotlib inline\n",
    "%config InlineBackend.figure_format = 'retina'\n",
    "\n",
    "import helper\n",
    "import numpy as np\n",
    "# Explore the dataset\n",
    "batch_id = 1\n",
    "sample_id = 5\n",
    "helper.display_stats(cifar10_dataset_folder_path, batch_id, sample_id)"
   ]
  },
  {
   "cell_type": "markdown",
   "metadata": {
    "deletable": true,
    "editable": true
   },
   "source": [
    "## Implement Preprocess Functions\n",
    "### Normalize\n",
    "In the cell below, implement the `normalize` function to take in image data, `x`, and return it as a normalized Numpy array. The values should be in the range of 0 to 1, inclusive.  The return object should be the same shape as `x`."
   ]
  },
  {
   "cell_type": "code",
   "execution_count": 3,
   "metadata": {
    "collapsed": false,
    "deletable": true,
    "editable": true
   },
   "outputs": [
    {
     "name": "stdout",
     "output_type": "stream",
     "text": [
      "Tests Passed\n"
     ]
    }
   ],
   "source": [
    "def normalize(x):\n",
    "    \"\"\"\n",
    "    Normalize a list of sample image data in the range of 0 to 1\n",
    "    : x: List of image data.  The image shape is (32, 32, 3)\n",
    "    : return: Numpy array of normalize data\n",
    "    \"\"\"\n",
    "    # TODO: Implement Function\n",
    "    return x/np.max(x)\n",
    "\n",
    "\n",
    "\"\"\"\n",
    "DON'T MODIFY ANYTHING IN THIS CELL THAT IS BELOW THIS LINE\n",
    "\"\"\"\n",
    "tests.test_normalize(normalize)"
   ]
  },
  {
   "cell_type": "markdown",
   "metadata": {
    "deletable": true,
    "editable": true
   },
   "source": [
    "### One-hot encode\n",
    "Just like the previous code cell, you'll be implementing a function for preprocessing.  This time, you'll implement the `one_hot_encode` function. The input, `x`, are a list of labels.  Implement the function to return the list of labels as One-Hot encoded Numpy array.  The possible values for labels are 0 to 9. The one-hot encoding function should return the same encoding for each value between each call to `one_hot_encode`.  Make sure to save the map of encodings outside the function.\n",
    "\n",
    "Hint: Don't reinvent the wheel."
   ]
  },
  {
   "cell_type": "code",
   "execution_count": 4,
   "metadata": {
    "collapsed": false,
    "deletable": true,
    "editable": true
   },
   "outputs": [
    {
     "name": "stdout",
     "output_type": "stream",
     "text": [
      "Tests Passed\n"
     ]
    }
   ],
   "source": [
    "def one_hot_encode(x):\n",
    "    \"\"\"\n",
    "    One hot encode a list of sample labels. Return a one-hot encoded vector for each label.\n",
    "    : x: List of sample Labels\n",
    "    : return: Numpy array of one-hot encoded labels\n",
    "    \"\"\"\n",
    "    # TODO: Implement Function\n",
    "    n_values=10\n",
    "    labels=np.arange(n_values)\n",
    "    return np.eye(n_values)[x]\n",
    "\n",
    "\n",
    "\n",
    "\"\"\"\n",
    "DON'T MODIFY ANYTHING IN THIS CELL THAT IS BELOW THIS LINE\n",
    "\"\"\"\n",
    "tests.test_one_hot_encode(one_hot_encode)"
   ]
  },
  {
   "cell_type": "markdown",
   "metadata": {
    "deletable": true,
    "editable": true
   },
   "source": [
    "### Randomize Data\n",
    "As you saw from exploring the data above, the order of the samples are randomized.  It doesn't hurt to randomize it again, but you don't need to for this dataset."
   ]
  },
  {
   "cell_type": "markdown",
   "metadata": {
    "deletable": true,
    "editable": true
   },
   "source": [
    "## Preprocess all the data and save it\n",
    "Running the code cell below will preprocess all the CIFAR-10 data and save it to file. The code below also uses 10% of the training data for validation."
   ]
  },
  {
   "cell_type": "code",
   "execution_count": 5,
   "metadata": {
    "collapsed": false,
    "deletable": true,
    "editable": true
   },
   "outputs": [],
   "source": [
    "\"\"\"\n",
    "DON'T MODIFY ANYTHING IN THIS CELL\n",
    "\"\"\"\n",
    "# Preprocess Training, Validation, and Testing Data\n",
    "helper.preprocess_and_save_data(cifar10_dataset_folder_path, normalize, one_hot_encode)"
   ]
  },
  {
   "cell_type": "markdown",
   "metadata": {
    "deletable": true,
    "editable": true
   },
   "source": [
    "# Check Point\n",
    "This is your first checkpoint.  If you ever decide to come back to this notebook or have to restart the notebook, you can start from here.  The preprocessed data has been saved to disk."
   ]
  },
  {
   "cell_type": "code",
   "execution_count": 6,
   "metadata": {
    "collapsed": true,
    "deletable": true,
    "editable": true
   },
   "outputs": [],
   "source": [
    "\"\"\"\n",
    "DON'T MODIFY ANYTHING IN THIS CELL\n",
    "\"\"\"\n",
    "import pickle\n",
    "import problem_unittests as tests\n",
    "import helper\n",
    "\n",
    "# Load the Preprocessed Validation data\n",
    "valid_features, valid_labels = pickle.load(open('preprocess_validation.p', mode='rb'))"
   ]
  },
  {
   "cell_type": "markdown",
   "metadata": {
    "deletable": true,
    "editable": true
   },
   "source": [
    "## Build the network\n",
    "For the neural network, you'll build each layer into a function.  Most of the code you've seen has been outside of functions. To test your code more thoroughly, we require that you put each layer in a function.  This allows us to give you better feedback and test for simple mistakes using our unittests before you submit your project.\n",
    "\n",
    ">**Note:** If you're finding it hard to dedicate enough time for this course each week, we've provided a small shortcut to this part of the project. In the next couple of problems, you'll have the option to use classes from the [TensorFlow Layers](https://www.tensorflow.org/api_docs/python/tf/layers) or [TensorFlow Layers (contrib)](https://www.tensorflow.org/api_guides/python/contrib.layers) packages to build each layer, except the layers you build in the \"Convolutional and Max Pooling Layer\" section.  TF Layers is similar to Keras's and TFLearn's abstraction to layers, so it's easy to pickup.\n",
    "\n",
    ">However, if you would like to get the most out of this course, try to solve all the problems _without_ using anything from the TF Layers packages. You **can** still use classes from other packages that happen to have the same name as ones you find in TF Layers! For example, instead of using the TF Layers version of the `conv2d` class, [tf.layers.conv2d](https://www.tensorflow.org/api_docs/python/tf/layers/conv2d), you would want to use the TF Neural Network version of `conv2d`, [tf.nn.conv2d](https://www.tensorflow.org/api_docs/python/tf/nn/conv2d). \n",
    "\n",
    "Let's begin!\n",
    "\n",
    "### Input\n",
    "The neural network needs to read the image data, one-hot encoded labels, and dropout keep probability. Implement the following functions\n",
    "* Implement `neural_net_image_input`\n",
    " * Return a [TF Placeholder](https://www.tensorflow.org/api_docs/python/tf/placeholder)\n",
    " * Set the shape using `image_shape` with batch size set to `None`.\n",
    " * Name the TensorFlow placeholder \"x\" using the TensorFlow `name` parameter in the [TF Placeholder](https://www.tensorflow.org/api_docs/python/tf/placeholder).\n",
    "* Implement `neural_net_label_input`\n",
    " * Return a [TF Placeholder](https://www.tensorflow.org/api_docs/python/tf/placeholder)\n",
    " * Set the shape using `n_classes` with batch size set to `None`.\n",
    " * Name the TensorFlow placeholder \"y\" using the TensorFlow `name` parameter in the [TF Placeholder](https://www.tensorflow.org/api_docs/python/tf/placeholder).\n",
    "* Implement `neural_net_keep_prob_input`\n",
    " * Return a [TF Placeholder](https://www.tensorflow.org/api_docs/python/tf/placeholder) for dropout keep probability.\n",
    " * Name the TensorFlow placeholder \"keep_prob\" using the TensorFlow `name` parameter in the [TF Placeholder](https://www.tensorflow.org/api_docs/python/tf/placeholder).\n",
    "\n",
    "These names will be used at the end of the project to load your saved model.\n",
    "\n",
    "Note: `None` for shapes in TensorFlow allow for a dynamic size."
   ]
  },
  {
   "cell_type": "code",
   "execution_count": 7,
   "metadata": {
    "collapsed": false,
    "deletable": true,
    "editable": true
   },
   "outputs": [
    {
     "name": "stdout",
     "output_type": "stream",
     "text": [
      "Image Input Tests Passed.\n",
      "Label Input Tests Passed.\n",
      "Keep Prob Tests Passed.\n"
     ]
    }
   ],
   "source": [
    "import tensorflow as tf\n",
    "\n",
    "def neural_net_image_input(image_shape):\n",
    "    \"\"\"\n",
    "    Return a Tensor for a batch of image input\n",
    "    : image_shape: Shape of the images\n",
    "    : return: Tensor for image input.\n",
    "    \"\"\"\n",
    "    # TODO: Implement Function\n",
    "#    print(image_shape)\n",
    "#    print (type(image_shape))\n",
    "    return tf.placeholder(tf.float32,shape=tuple([None]+list(image_shape)),name=\"x\")\n",
    "\n",
    "\n",
    "\n",
    "def neural_net_label_input(n_classes):\n",
    "    \"\"\"\n",
    "    Return a Tensor for a batch of label input\n",
    "    : n_classes: Number of classes\n",
    "    : return: Tensor for label input.\n",
    "    \"\"\"\n",
    "    # TODO: Implement Function\n",
    "    return tf.placeholder(tf.int32,shape=(None,n_classes),name=\"y\")\n",
    "\n",
    "\n",
    "def neural_net_keep_prob_input():\n",
    "    \"\"\"\n",
    "    Return a Tensor for keep probability\n",
    "    : return: Tensor for keep probability.\n",
    "    \"\"\"\n",
    "    # TODO: Implement Function\n",
    "    return tf.placeholder(tf.float32,name=\"keep_prob\")\n",
    "\n",
    "\n",
    "\"\"\"\n",
    "DON'T MODIFY ANYTHING IN THIS CELL THAT IS BELOW THIS LINE\n",
    "\"\"\"\n",
    "tf.reset_default_graph()\n",
    "tests.test_nn_image_inputs(neural_net_image_input)\n",
    "tests.test_nn_label_inputs(neural_net_label_input)\n",
    "tests.test_nn_keep_prob_inputs(neural_net_keep_prob_input)"
   ]
  },
  {
   "cell_type": "markdown",
   "metadata": {
    "deletable": true,
    "editable": true
   },
   "source": [
    "### Convolution and Max Pooling Layer\n",
    "Convolution layers have a lot of success with images. For this code cell, you should implement the function `conv2d_maxpool` to apply convolution then max pooling:\n",
    "* Create the weight and bias using `conv_ksize`, `conv_num_outputs` and the shape of `x_tensor`.\n",
    "* Apply a convolution to `x_tensor` using weight and `conv_strides`.\n",
    " * We recommend you use same padding, but you're welcome to use any padding.\n",
    "* Add bias\n",
    "* Add a nonlinear activation to the convolution.\n",
    "* Apply Max Pooling using `pool_ksize` and `pool_strides`.\n",
    " * We recommend you use same padding, but you're welcome to use any padding.\n",
    "\n",
    "**Note:** You **can't** use [TensorFlow Layers](https://www.tensorflow.org/api_docs/python/tf/layers) or [TensorFlow Layers (contrib)](https://www.tensorflow.org/api_guides/python/contrib.layers) for **this** layer, but you can still use TensorFlow's [Neural Network](https://www.tensorflow.org/api_docs/python/tf/nn) package. You may still use the shortcut option for all the **other** layers."
   ]
  },
  {
   "cell_type": "code",
   "execution_count": 29,
   "metadata": {
    "collapsed": false,
    "deletable": true,
    "editable": true
   },
   "outputs": [
    {
     "name": "stdout",
     "output_type": "stream",
     "text": [
      "Tests Passed\n"
     ]
    }
   ],
   "source": [
    "def conv2d_maxpool(x_tensor, conv_num_outputs, conv_ksize, conv_strides, pool_ksize, pool_strides):\n",
    "    \"\"\"\n",
    "    Apply convolution then max pooling to x_tensor\n",
    "    :param x_tensor: TensorFlow Tensor\n",
    "    :param conv_num_outputs: Number of outputs for the convolutional layer\n",
    "    :param conv_ksize: kernal size 2-D Tuple for the convolutional layer\n",
    "    :param conv_strides: Stride 2-D Tuple for convolution\n",
    "    :param pool_ksize: kernal size 2-D Tuple for pool\n",
    "    :param pool_strides: Stride 2-D Tuple for pool\n",
    "    : return: A tensor that represents convolution and max pooling of x_tensor\n",
    "    \"\"\"\n",
    "    W = tf.Variable(tf.truncated_normal(list(conv_ksize)+[x_tensor.shape.as_list()[3],conv_num_outputs],stddev=0.1),name='conv_weights')\n",
    "    b= tf.Variable(tf.zeros([conv_num_outputs]),name='conv_biases')\n",
    "    out = tf.nn.conv2d(x_tensor,\n",
    "                       W,\n",
    "                       [1]+list(conv_strides)+[1],\n",
    "                       \"SAME\")\n",
    "    out=tf.nn.bias_add(out,b)\n",
    "\n",
    "    out=tf.nn.relu(out) # apply activation\n",
    "    out=tf.nn.max_pool(out,[1]+list(pool_ksize)+[1],[1]+list(pool_strides)+[1],'SAME')  # max pooling\n",
    "    return out\n",
    "\n",
    "\n",
    "\"\"\"\n",
    "DON'T MODIFY ANYTHING IN THIS CELL THAT IS BELOW THIS LINE\n",
    "\"\"\"\n",
    "tests.test_con_pool(conv2d_maxpool)"
   ]
  },
  {
   "cell_type": "markdown",
   "metadata": {
    "deletable": true,
    "editable": true
   },
   "source": [
    "### Flatten Layer\n",
    "Implement the `flatten` function to change the dimension of `x_tensor` from a 4-D tensor to a 2-D tensor.  The output should be the shape (*Batch Size*, *Flattened Image Size*). Shortcut option: you can use classes from the [TensorFlow Layers](https://www.tensorflow.org/api_docs/python/tf/layers) or [TensorFlow Layers (contrib)](https://www.tensorflow.org/api_guides/python/contrib.layers) packages for this layer. For more of a challenge, only use other TensorFlow packages."
   ]
  },
  {
   "cell_type": "code",
   "execution_count": 30,
   "metadata": {
    "collapsed": false,
    "deletable": true,
    "editable": true
   },
   "outputs": [
    {
     "name": "stdout",
     "output_type": "stream",
     "text": [
      "Tests Passed\n"
     ]
    }
   ],
   "source": [
    "def flatten(x_tensor):\n",
    "    \"\"\"\n",
    "    Flatten x_tensor to (Batch Size, Flattened Image Size)\n",
    "    : x_tensor: A tensor of size (Batch Size, ...), where ... are the image dimensions.\n",
    "    : return: A tensor of size (Batch Size, Flattened Image Size).\n",
    "    \"\"\"\n",
    "    # TODO: Implement Function\n",
    "    return tf.reshape(x_tensor,[-1,np.prod(x_tensor.shape.as_list()[1:])])\n",
    "\n",
    "\n",
    "\"\"\"\n",
    "DON'T MODIFY ANYTHING IN THIS CELL THAT IS BELOW THIS LINE\n",
    "\"\"\"\n",
    "tests.test_flatten(flatten)"
   ]
  },
  {
   "cell_type": "markdown",
   "metadata": {
    "deletable": true,
    "editable": true
   },
   "source": [
    "### Fully-Connected Layer\n",
    "Implement the `fully_conn` function to apply a fully connected layer to `x_tensor` with the shape (*Batch Size*, *num_outputs*). Shortcut option: you can use classes from the [TensorFlow Layers](https://www.tensorflow.org/api_docs/python/tf/layers) or [TensorFlow Layers (contrib)](https://www.tensorflow.org/api_guides/python/contrib.layers) packages for this layer. For more of a challenge, only use other TensorFlow packages."
   ]
  },
  {
   "cell_type": "code",
   "execution_count": 31,
   "metadata": {
    "collapsed": false,
    "deletable": true,
    "editable": true
   },
   "outputs": [
    {
     "name": "stdout",
     "output_type": "stream",
     "text": [
      "Tests Passed\n"
     ]
    }
   ],
   "source": [
    "def fully_conn(x_tensor, num_outputs):\n",
    "    \"\"\"\n",
    "    Apply a fully connected layer to x_tensor using weight and bias\n",
    "    : x_tensor: A 2-D tensor where the first dimension is batch size.\n",
    "    : num_outputs: The number of output that the new tensor should be.\n",
    "    : return: A 2-D tensor where the second dimension is num_outputs.\n",
    "    \"\"\"\n",
    "    n_features=x_tensor.shape.as_list()[1]\n",
    "    W = tf.Variable(tf.truncated_normal([n_features,num_outputs],stddev=0.1),name='fc_weights')\n",
    "    b= tf.Variable(tf.zeros([num_outputs]),name='fc_biases')\n",
    "    out=tf.matmul(x_tensor,W)\n",
    "    out=tf.nn.bias_add(out,b)\n",
    "\n",
    "    out=tf.nn.relu(out) # apply activation\n",
    "\n",
    "    return out\n",
    "\n",
    "\n",
    "\"\"\"\n",
    "DON'T MODIFY ANYTHING IN THIS CELL THAT IS BELOW THIS LINE\n",
    "\"\"\"\n",
    "tests.test_fully_conn(fully_conn)"
   ]
  },
  {
   "cell_type": "markdown",
   "metadata": {
    "deletable": true,
    "editable": true
   },
   "source": [
    "### Output Layer\n",
    "Implement the `output` function to apply a fully connected layer to `x_tensor` with the shape (*Batch Size*, *num_outputs*). Shortcut option: you can use classes from the [TensorFlow Layers](https://www.tensorflow.org/api_docs/python/tf/layers) or [TensorFlow Layers (contrib)](https://www.tensorflow.org/api_guides/python/contrib.layers) packages for this layer. For more of a challenge, only use other TensorFlow packages.\n",
    "\n",
    "**Note:** Activation, softmax, or cross entropy should **not** be applied to this."
   ]
  },
  {
   "cell_type": "code",
   "execution_count": 32,
   "metadata": {
    "collapsed": false,
    "deletable": true,
    "editable": true
   },
   "outputs": [
    {
     "name": "stdout",
     "output_type": "stream",
     "text": [
      "Tests Passed\n"
     ]
    }
   ],
   "source": [
    "def output(x_tensor, num_outputs):\n",
    "    \"\"\"\n",
    "    Apply a output layer to x_tensor using weight and bias\n",
    "    : x_tensor: A 2-D tensor where the first dimension is batch size.\n",
    "    : num_outputs: The number of output that the new tensor should be.\n",
    "    : return: A 2-D tensor where the second dimension is num_outputs.\n",
    "    \"\"\"\n",
    "    n_features=x_tensor.shape.as_list()[1]\n",
    "    W = tf.Variable(tf.truncated_normal([n_features,num_outputs],stddev=0.1),name='out_weights')\n",
    "    b= tf.Variable(tf.zeros([num_outputs]),name='out_biases')\n",
    "    out=tf.matmul(x_tensor,W)\n",
    "    out=tf.nn.bias_add(out,b)\n",
    "\n",
    "    return out\n",
    "\n",
    "\n",
    "\"\"\"\n",
    "DON'T MODIFY ANYTHING IN THIS CELL THAT IS BELOW THIS LINE\n",
    "\"\"\"\n",
    "tests.test_output(output)"
   ]
  },
  {
   "cell_type": "markdown",
   "metadata": {
    "deletable": true,
    "editable": true
   },
   "source": [
    "### Create Convolutional Model\n",
    "Implement the function `conv_net` to create a convolutional neural network model. The function takes in a batch of images, `x`, and outputs logits.  Use the layers you created above to create this model:\n",
    "\n",
    "* Apply 1, 2, or 3 Convolution and Max Pool layers\n",
    "* Apply a Flatten Layer\n",
    "* Apply 1, 2, or 3 Fully Connected Layers\n",
    "* Apply an Output Layer\n",
    "* Return the output\n",
    "* Apply [TensorFlow's Dropout](https://www.tensorflow.org/api_docs/python/tf/nn/dropout) to one or more layers in the model using `keep_prob`. "
   ]
  },
  {
   "cell_type": "code",
   "execution_count": 33,
   "metadata": {
    "collapsed": false,
    "deletable": true,
    "editable": true
   },
   "outputs": [
    {
     "name": "stdout",
     "output_type": "stream",
     "text": [
      "Neural Network Built!\n"
     ]
    }
   ],
   "source": [
    "def conv_net(x, keep_prob):\n",
    "    \"\"\"\n",
    "    Create a convolutional neural network model\n",
    "    : x: Placeholder tensor that holds image data.\n",
    "    : keep_prob: Placeholder tensor that hold dropout keep probability.\n",
    "    : return: Tensor that represents logits\n",
    "    \"\"\"\n",
    "    # TODO: Apply 1, 2, or 3 Convolution and Max Pool layers\n",
    "    #    Play around with different number of outputs, kernel size and stride\n",
    "    # Function Definition from Above:\n",
    "    #    conv2d_maxpool(x_tensor, conv_num_outputs, conv_ksize, conv_strides, pool_ksize, pool_strides)\n",
    "    layer = conv2d_maxpool(x, 64, (3,3), (1,1) ,(2,2) , (2,2))\n",
    "    layer = conv2d_maxpool(layer, 128, (3, 3), (1, 1), (2, 2), (2, 2))\n",
    "#    layer = conv2d_maxpool(layer, 256, (3, 3), (1, 1), (2, 2), (2, 2))\n",
    "\n",
    "    # TODO: Apply a Flatten Layer\n",
    "    # Function Definition from Above:\n",
    "    #   flatten(x_tensor)\n",
    "    layer = flatten(layer)\n",
    "\n",
    "\n",
    "    # TODO: Apply 1, 2, or 3 Fully Connected Layers\n",
    "    #    Play around with different number of outputs\n",
    "    # Function Definition from Above:\n",
    "    #   fully_conn(x_tensor, num_outputs)\n",
    "    layer=fully_conn(layer,128)\n",
    "    layer=tf.nn.dropout(layer,keep_prob)\n",
    "\n",
    "    # TODO: Apply an Output Layer\n",
    "    #    Set this to the number of classes\n",
    "    # Function Definition from Above:\n",
    "    #   output(x_tensor, num_outputs)\n",
    "    out=output(layer,10)\n",
    "\n",
    "    # TODO: return output\n",
    "    return out\n",
    "\n",
    "\n",
    "\"\"\"\n",
    "DON'T MODIFY ANYTHING IN THIS CELL THAT IS BELOW THIS LINE\n",
    "\"\"\"\n",
    "\n",
    "##############################\n",
    "## Build the Neural Network ##\n",
    "##############################\n",
    "\n",
    "# Remove previous weights, bias, inputs, etc..\n",
    "tf.reset_default_graph()\n",
    "\n",
    "# Inputs\n",
    "x = neural_net_image_input((32, 32, 3))\n",
    "y = neural_net_label_input(10)\n",
    "keep_prob = neural_net_keep_prob_input()\n",
    "\n",
    "# Model\n",
    "logits = conv_net(x, keep_prob)\n",
    "\n",
    "# Name logits Tensor, so that is can be loaded from disk after training\n",
    "logits = tf.identity(logits, name='logits')\n",
    "\n",
    "# Loss and Optimizer\n",
    "cost = tf.reduce_mean(tf.nn.softmax_cross_entropy_with_logits(logits=logits, labels=y))\n",
    "optimizer = tf.train.AdamOptimizer().minimize(cost)\n",
    "\n",
    "# Accuracy\n",
    "correct_pred = tf.equal(tf.argmax(logits, 1), tf.argmax(y, 1))\n",
    "accuracy = tf.reduce_mean(tf.cast(correct_pred, tf.float32), name='accuracy')\n",
    "\n",
    "tests.test_conv_net(conv_net)"
   ]
  },
  {
   "cell_type": "markdown",
   "metadata": {
    "deletable": true,
    "editable": true
   },
   "source": [
    "## Train the Neural Network\n",
    "### Single Optimization\n",
    "Implement the function `train_neural_network` to do a single optimization.  The optimization should use `optimizer` to optimize in `session` with a `feed_dict` of the following:\n",
    "* `x` for image input\n",
    "* `y` for labels\n",
    "* `keep_prob` for keep probability for dropout\n",
    "\n",
    "This function will be called for each batch, so `tf.global_variables_initializer()` has already been called.\n",
    "\n",
    "Note: Nothing needs to be returned. This function is only optimizing the neural network."
   ]
  },
  {
   "cell_type": "code",
   "execution_count": 34,
   "metadata": {
    "collapsed": false,
    "deletable": true,
    "editable": true
   },
   "outputs": [
    {
     "name": "stdout",
     "output_type": "stream",
     "text": [
      "Tests Passed\n"
     ]
    }
   ],
   "source": [
    "def train_neural_network(session, optimizer, keep_probability, feature_batch, label_batch):\n",
    "    \"\"\"\n",
    "    Optimize the session on a batch of images and labels\n",
    "    : session: Current TensorFlow session\n",
    "    : optimizer: TensorFlow optimizer function\n",
    "    : keep_probability: keep probability\n",
    "    : feature_batch: Batch of Numpy image data\n",
    "    : label_batch: Batch of Numpy label data\n",
    "    \"\"\"\n",
    "    session.run(optimizer,feed_dict={x:feature_batch,y:label_batch,keep_prob:keep_probability})\n",
    "    return\n",
    "\n",
    "\n",
    "\"\"\"\n",
    "DON'T MODIFY ANYTHING IN THIS CELL THAT IS BELOW THIS LINE\n",
    "\"\"\"\n",
    "tests.test_train_nn(train_neural_network)"
   ]
  },
  {
   "cell_type": "markdown",
   "metadata": {
    "deletable": true,
    "editable": true
   },
   "source": [
    "### Show Stats\n",
    "Implement the function `print_stats` to print loss and validation accuracy.  Use the global variables `valid_features` and `valid_labels` to calculate validation accuracy.  Use a keep probability of `1.0` to calculate the loss and validation accuracy."
   ]
  },
  {
   "cell_type": "code",
   "execution_count": 35,
   "metadata": {
    "collapsed": false,
    "deletable": true,
    "editable": true
   },
   "outputs": [],
   "source": [
    "def print_stats(session, feature_batch, label_batch, cost, accuracy):\n",
    "    \"\"\"\n",
    "    Print information about loss and validation accuracy\n",
    "    : session: Current TensorFlow session\n",
    "    : feature_batch: Batch of Numpy image data\n",
    "    : label_batch: Batch of Numpy label data\n",
    "    : cost: TensorFlow cost function\n",
    "    : accuracy: TensorFlow accuracy function\n",
    "    \"\"\"\n",
    "    Loss_valid,Acc_valid=session.run([cost,accuracy],feed_dict={x:feature_batch,y:label_batch,keep_prob:1.0})\n",
    "    print('validation loss:{} , validation accuracy:{}'.format(Loss_valid,Acc_valid))\n"
   ]
  },
  {
   "cell_type": "markdown",
   "metadata": {
    "deletable": true,
    "editable": true
   },
   "source": [
    "### Hyperparameters\n",
    "Tune the following parameters:\n",
    "* Set `epochs` to the number of iterations until the network stops learning or start overfitting\n",
    "* Set `batch_size` to the highest number that your machine has memory for.  Most people set them to common sizes of memory:\n",
    " * 64\n",
    " * 128\n",
    " * 256\n",
    " * ...\n",
    "* Set `keep_probability` to the probability of keeping a node using dropout"
   ]
  },
  {
   "cell_type": "code",
   "execution_count": 36,
   "metadata": {
    "collapsed": true,
    "deletable": true,
    "editable": true
   },
   "outputs": [],
   "source": [
    "# TODO: Tune Parameters\n",
    "epochs = 20\n",
    "batch_size = 128\n",
    "keep_probability = 1.0"
   ]
  },
  {
   "cell_type": "markdown",
   "metadata": {
    "deletable": true,
    "editable": true
   },
   "source": [
    "### Train on a Single CIFAR-10 Batch\n",
    "Instead of training the neural network on all the CIFAR-10 batches of data, let's use a single batch. This should save time while you iterate on the model to get a better accuracy.  Once the final validation accuracy is 50% or greater, run the model on all the data in the next section."
   ]
  },
  {
   "cell_type": "code",
   "execution_count": 37,
   "metadata": {
    "collapsed": false,
    "deletable": true,
    "editable": true
   },
   "outputs": [
    {
     "name": "stdout",
     "output_type": "stream",
     "text": [
      "Checking the Training on a Single Batch...\n",
      "Epoch  1, CIFAR-10 Batch 1:  validation loss:1.8864238262176514 , validation accuracy:0.3499999940395355\n",
      "Epoch  2, CIFAR-10 Batch 1:  validation loss:1.4745700359344482 , validation accuracy:0.6000000238418579\n",
      "Epoch  3, CIFAR-10 Batch 1:  validation loss:1.210682988166809 , validation accuracy:0.7250000238418579\n",
      "Epoch  4, CIFAR-10 Batch 1:  validation loss:1.0279887914657593 , validation accuracy:0.75\n",
      "Epoch  5, CIFAR-10 Batch 1:  validation loss:0.880327045917511 , validation accuracy:0.8000000715255737\n",
      "Epoch  6, CIFAR-10 Batch 1:  validation loss:0.7777798175811768 , validation accuracy:0.7749999761581421\n",
      "Epoch  7, CIFAR-10 Batch 1:  validation loss:0.6727562546730042 , validation accuracy:0.8000000715255737\n",
      "Epoch  8, CIFAR-10 Batch 1:  validation loss:0.524685263633728 , validation accuracy:0.8500000238418579\n",
      "Epoch  9, CIFAR-10 Batch 1:  validation loss:0.42911821603775024 , validation accuracy:0.8999999761581421\n",
      "Epoch 10, CIFAR-10 Batch 1:  validation loss:0.34465059638023376 , validation accuracy:0.925000011920929\n",
      "Epoch 11, CIFAR-10 Batch 1:  validation loss:0.27867013216018677 , validation accuracy:0.949999988079071\n",
      "Epoch 12, CIFAR-10 Batch 1:  validation loss:0.2693936824798584 , validation accuracy:0.925000011920929\n",
      "Epoch 13, CIFAR-10 Batch 1:  validation loss:0.19832147657871246 , validation accuracy:1.0\n",
      "Epoch 14, CIFAR-10 Batch 1:  validation loss:0.1415959745645523 , validation accuracy:1.0\n",
      "Epoch 15, CIFAR-10 Batch 1:  validation loss:0.096342071890831 , validation accuracy:1.0\n",
      "Epoch 16, CIFAR-10 Batch 1:  validation loss:0.08318544924259186 , validation accuracy:1.0\n",
      "Epoch 17, CIFAR-10 Batch 1:  validation loss:0.06392009556293488 , validation accuracy:1.0\n",
      "Epoch 18, CIFAR-10 Batch 1:  validation loss:0.06395062059164047 , validation accuracy:1.0\n",
      "Epoch 19, CIFAR-10 Batch 1:  validation loss:0.055093228816986084 , validation accuracy:1.0\n",
      "Epoch 20, CIFAR-10 Batch 1:  validation loss:0.07682596147060394 , validation accuracy:1.0\n",
      "Epoch 21, CIFAR-10 Batch 1:  validation loss:0.048443861305713654 , validation accuracy:1.0\n",
      "Epoch 22, CIFAR-10 Batch 1:  validation loss:0.023891128599643707 , validation accuracy:1.0\n",
      "Epoch 23, CIFAR-10 Batch 1:  validation loss:0.0567408986389637 , validation accuracy:1.0\n",
      "Epoch 24, CIFAR-10 Batch 1:  validation loss:0.023333750665187836 , validation accuracy:1.0\n",
      "Epoch 25, CIFAR-10 Batch 1:  validation loss:0.033233217895030975 , validation accuracy:1.0\n",
      "Epoch 26, CIFAR-10 Batch 1:  validation loss:0.01100817322731018 , validation accuracy:1.0\n",
      "Epoch 27, CIFAR-10 Batch 1:  validation loss:0.0107182078063488 , validation accuracy:1.0\n",
      "Epoch 28, CIFAR-10 Batch 1:  validation loss:0.009521625936031342 , validation accuracy:1.0\n",
      "Epoch 29, CIFAR-10 Batch 1:  validation loss:0.008958355523645878 , validation accuracy:1.0\n",
      "Epoch 30, CIFAR-10 Batch 1:  validation loss:0.0065394118428230286 , validation accuracy:1.0\n",
      "Epoch 31, CIFAR-10 Batch 1:  validation loss:0.00814738404005766 , validation accuracy:1.0\n",
      "Epoch 32, CIFAR-10 Batch 1:  validation loss:0.022848255932331085 , validation accuracy:1.0\n",
      "Epoch 33, CIFAR-10 Batch 1:  validation loss:0.0061608562245965 , validation accuracy:1.0\n",
      "Epoch 34, CIFAR-10 Batch 1:  validation loss:0.005893806926906109 , validation accuracy:1.0\n",
      "Epoch 35, CIFAR-10 Batch 1:  validation loss:0.002576589584350586 , validation accuracy:1.0\n",
      "Epoch 36, CIFAR-10 Batch 1:  validation loss:0.0017967979656532407 , validation accuracy:1.0\n",
      "Epoch 37, CIFAR-10 Batch 1:  validation loss:0.0021968192886561155 , validation accuracy:1.0\n",
      "Epoch 38, CIFAR-10 Batch 1:  validation loss:0.001055286847986281 , validation accuracy:1.0\n",
      "Epoch 39, CIFAR-10 Batch 1:  validation loss:0.0008020231616683304 , validation accuracy:1.0\n",
      "Epoch 40, CIFAR-10 Batch 1:  validation loss:0.0006592306308448315 , validation accuracy:1.0\n"
     ]
    }
   ],
   "source": [
    "\"\"\"\n",
    "DON'T MODIFY ANYTHING IN THIS CELL\n",
    "\"\"\"\n",
    "print('Checking the Training on a Single Batch...')\n",
    "with tf.Session() as sess:\n",
    "    # Initializing the variables\n",
    "    sess.run(tf.global_variables_initializer())\n",
    "    \n",
    "    # Training cycle\n",
    "    for epoch in range(epochs):\n",
    "        batch_i = 1\n",
    "        for batch_features, batch_labels in helper.load_preprocess_training_batch(batch_i, batch_size):\n",
    "            train_neural_network(sess, optimizer, keep_probability, batch_features, batch_labels)\n",
    "        print('Epoch {:>2}, CIFAR-10 Batch {}:  '.format(epoch + 1, batch_i), end='')\n",
    "        print_stats(sess, batch_features, batch_labels, cost, accuracy)"
   ]
  },
  {
   "cell_type": "markdown",
   "metadata": {
    "deletable": true,
    "editable": true
   },
   "source": [
    "### Fully Train the Model\n",
    "Now that you got a good accuracy with a single CIFAR-10 batch, try it with all five batches."
   ]
  },
  {
   "cell_type": "code",
   "execution_count": 38,
   "metadata": {
    "collapsed": false,
    "deletable": true,
    "editable": true
   },
   "outputs": [
    {
     "name": "stdout",
     "output_type": "stream",
     "text": [
      "Training...\n",
      "Epoch  1, CIFAR-10 Batch 1:  validation loss:1.9093353748321533 , validation accuracy:0.4000000059604645\n",
      "Epoch  1, CIFAR-10 Batch 2:  validation loss:1.4796903133392334 , validation accuracy:0.42500001192092896\n",
      "Epoch  1, CIFAR-10 Batch 3:  validation loss:1.255744218826294 , validation accuracy:0.5750000476837158\n",
      "Epoch  1, CIFAR-10 Batch 4:  validation loss:1.163402795791626 , validation accuracy:0.625\n",
      "Epoch  1, CIFAR-10 Batch 5:  validation loss:1.2189253568649292 , validation accuracy:0.6499999761581421\n",
      "Epoch  2, CIFAR-10 Batch 1:  validation loss:1.2364479303359985 , validation accuracy:0.625\n",
      "Epoch  2, CIFAR-10 Batch 2:  validation loss:0.9758636951446533 , validation accuracy:0.6749999523162842\n",
      "Epoch  2, CIFAR-10 Batch 3:  validation loss:0.8267576098442078 , validation accuracy:0.7000000476837158\n",
      "Epoch  2, CIFAR-10 Batch 4:  validation loss:0.8465211987495422 , validation accuracy:0.7749999761581421\n",
      "Epoch  2, CIFAR-10 Batch 5:  validation loss:0.8152374029159546 , validation accuracy:0.75\n",
      "Epoch  3, CIFAR-10 Batch 1:  validation loss:0.9949531555175781 , validation accuracy:0.7000000476837158\n",
      "Epoch  3, CIFAR-10 Batch 2:  validation loss:0.7611269950866699 , validation accuracy:0.7250000238418579\n",
      "Epoch  3, CIFAR-10 Batch 3:  validation loss:0.5427138805389404 , validation accuracy:0.800000011920929\n",
      "Epoch  3, CIFAR-10 Batch 4:  validation loss:0.7101949453353882 , validation accuracy:0.8000000715255737\n",
      "Epoch  3, CIFAR-10 Batch 5:  validation loss:0.5956641435623169 , validation accuracy:0.8500000834465027\n",
      "Epoch  4, CIFAR-10 Batch 1:  validation loss:0.8173145055770874 , validation accuracy:0.75\n",
      "Epoch  4, CIFAR-10 Batch 2:  validation loss:0.6355052590370178 , validation accuracy:0.7750000357627869\n",
      "Epoch  4, CIFAR-10 Batch 3:  validation loss:0.3860560357570648 , validation accuracy:0.9000000357627869\n",
      "Epoch  4, CIFAR-10 Batch 4:  validation loss:0.5442893505096436 , validation accuracy:0.7999999523162842\n",
      "Epoch  4, CIFAR-10 Batch 5:  validation loss:0.47537171840667725 , validation accuracy:0.9000000357627869\n",
      "Epoch  5, CIFAR-10 Batch 1:  validation loss:0.6612416505813599 , validation accuracy:0.7750000357627869\n",
      "Epoch  5, CIFAR-10 Batch 2:  validation loss:0.5439404845237732 , validation accuracy:0.8750000596046448\n",
      "Epoch  5, CIFAR-10 Batch 3:  validation loss:0.32208484411239624 , validation accuracy:0.925000011920929\n",
      "Epoch  5, CIFAR-10 Batch 4:  validation loss:0.4380986988544464 , validation accuracy:0.8500000238418579\n",
      "Epoch  5, CIFAR-10 Batch 5:  validation loss:0.40975257754325867 , validation accuracy:0.925000011920929\n",
      "Epoch  6, CIFAR-10 Batch 1:  validation loss:0.4568554759025574 , validation accuracy:0.8500000238418579\n",
      "Epoch  6, CIFAR-10 Batch 2:  validation loss:0.4207882285118103 , validation accuracy:0.8750000596046448\n",
      "Epoch  6, CIFAR-10 Batch 3:  validation loss:0.24551329016685486 , validation accuracy:0.9749999642372131\n",
      "Epoch  6, CIFAR-10 Batch 4:  validation loss:0.3376518487930298 , validation accuracy:0.949999988079071\n",
      "Epoch  6, CIFAR-10 Batch 5:  validation loss:0.3449000120162964 , validation accuracy:0.925000011920929\n",
      "Epoch  7, CIFAR-10 Batch 1:  validation loss:0.3244401812553406 , validation accuracy:0.8500000238418579\n",
      "Epoch  7, CIFAR-10 Batch 2:  validation loss:0.3245711326599121 , validation accuracy:0.9000000357627869\n",
      "Epoch  7, CIFAR-10 Batch 3:  validation loss:0.1994866281747818 , validation accuracy:1.0\n",
      "Epoch  7, CIFAR-10 Batch 4:  validation loss:0.27789896726608276 , validation accuracy:0.949999988079071\n",
      "Epoch  7, CIFAR-10 Batch 5:  validation loss:0.27739599347114563 , validation accuracy:0.949999988079071\n",
      "Epoch  8, CIFAR-10 Batch 1:  validation loss:0.2097940444946289 , validation accuracy:0.9749999642372131\n",
      "Epoch  8, CIFAR-10 Batch 2:  validation loss:0.27407336235046387 , validation accuracy:0.925000011920929\n",
      "Epoch  8, CIFAR-10 Batch 3:  validation loss:0.13508343696594238 , validation accuracy:1.0\n",
      "Epoch  8, CIFAR-10 Batch 4:  validation loss:0.205206036567688 , validation accuracy:0.949999988079071\n",
      "Epoch  8, CIFAR-10 Batch 5:  validation loss:0.2332969605922699 , validation accuracy:0.9750000238418579\n",
      "Epoch  9, CIFAR-10 Batch 1:  validation loss:0.16130331158638 , validation accuracy:1.0\n",
      "Epoch  9, CIFAR-10 Batch 2:  validation loss:0.20864100754261017 , validation accuracy:0.949999988079071\n",
      "Epoch  9, CIFAR-10 Batch 3:  validation loss:0.12788623571395874 , validation accuracy:0.9749999642372131\n",
      "Epoch  9, CIFAR-10 Batch 4:  validation loss:0.16786137223243713 , validation accuracy:0.9749999642372131\n",
      "Epoch  9, CIFAR-10 Batch 5:  validation loss:0.22436878085136414 , validation accuracy:0.9750000238418579\n",
      "Epoch 10, CIFAR-10 Batch 1:  validation loss:0.13496160507202148 , validation accuracy:0.9750000238418579\n",
      "Epoch 10, CIFAR-10 Batch 2:  validation loss:0.16249240934848785 , validation accuracy:0.9750000238418579\n",
      "Epoch 10, CIFAR-10 Batch 3:  validation loss:0.09804967790842056 , validation accuracy:1.0\n",
      "Epoch 10, CIFAR-10 Batch 4:  validation loss:0.14978033304214478 , validation accuracy:0.9749999642372131\n",
      "Epoch 10, CIFAR-10 Batch 5:  validation loss:0.15523341298103333 , validation accuracy:0.9750000238418579\n",
      "Epoch 11, CIFAR-10 Batch 1:  validation loss:0.09503814578056335 , validation accuracy:1.0\n",
      "Epoch 11, CIFAR-10 Batch 2:  validation loss:0.0971798375248909 , validation accuracy:0.9750000238418579\n",
      "Epoch 11, CIFAR-10 Batch 3:  validation loss:0.07007051259279251 , validation accuracy:1.0\n",
      "Epoch 11, CIFAR-10 Batch 4:  validation loss:0.08874212205410004 , validation accuracy:0.9749999642372131\n",
      "Epoch 11, CIFAR-10 Batch 5:  validation loss:0.13667099177837372 , validation accuracy:0.949999988079071\n",
      "Epoch 12, CIFAR-10 Batch 1:  validation loss:0.0878714770078659 , validation accuracy:1.0\n",
      "Epoch 12, CIFAR-10 Batch 2:  validation loss:0.0832112729549408 , validation accuracy:0.9750000238418579\n",
      "Epoch 12, CIFAR-10 Batch 3:  validation loss:0.050051018595695496 , validation accuracy:1.0\n",
      "Epoch 12, CIFAR-10 Batch 4:  validation loss:0.07182168960571289 , validation accuracy:1.0\n",
      "Epoch 12, CIFAR-10 Batch 5:  validation loss:0.08280117064714432 , validation accuracy:1.0\n",
      "Epoch 13, CIFAR-10 Batch 1:  validation loss:0.06387647241353989 , validation accuracy:1.0\n",
      "Epoch 13, CIFAR-10 Batch 2:  validation loss:0.07103531062602997 , validation accuracy:1.0\n",
      "Epoch 13, CIFAR-10 Batch 3:  validation loss:0.032476216554641724 , validation accuracy:1.0\n",
      "Epoch 13, CIFAR-10 Batch 4:  validation loss:0.07035712897777557 , validation accuracy:1.0\n",
      "Epoch 13, CIFAR-10 Batch 5:  validation loss:0.09371896088123322 , validation accuracy:0.9750000238418579\n",
      "Epoch 14, CIFAR-10 Batch 1:  validation loss:0.0598125085234642 , validation accuracy:1.0\n",
      "Epoch 14, CIFAR-10 Batch 2:  validation loss:0.06531884521245956 , validation accuracy:1.0\n",
      "Epoch 14, CIFAR-10 Batch 3:  validation loss:0.03183677792549133 , validation accuracy:1.0\n",
      "Epoch 14, CIFAR-10 Batch 4:  validation loss:0.10240431874990463 , validation accuracy:1.0\n",
      "Epoch 14, CIFAR-10 Batch 5:  validation loss:0.05586056411266327 , validation accuracy:1.0\n",
      "Epoch 15, CIFAR-10 Batch 1:  validation loss:0.051365721970796585 , validation accuracy:1.0\n",
      "Epoch 15, CIFAR-10 Batch 2:  validation loss:0.04536385089159012 , validation accuracy:1.0\n",
      "Epoch 15, CIFAR-10 Batch 3:  validation loss:0.02395075373351574 , validation accuracy:1.0\n",
      "Epoch 15, CIFAR-10 Batch 4:  validation loss:0.07336533814668655 , validation accuracy:1.0\n",
      "Epoch 15, CIFAR-10 Batch 5:  validation loss:0.03371775895357132 , validation accuracy:1.0\n",
      "Epoch 16, CIFAR-10 Batch 1:  validation loss:0.03870126232504845 , validation accuracy:1.0\n",
      "Epoch 16, CIFAR-10 Batch 2:  validation loss:0.03623909130692482 , validation accuracy:1.0\n",
      "Epoch 16, CIFAR-10 Batch 3:  validation loss:0.031087342649698257 , validation accuracy:1.0\n",
      "Epoch 16, CIFAR-10 Batch 4:  validation loss:0.05704644322395325 , validation accuracy:1.0\n",
      "Epoch 16, CIFAR-10 Batch 5:  validation loss:0.02191973850131035 , validation accuracy:1.0\n",
      "Epoch 17, CIFAR-10 Batch 1:  validation loss:0.03028557077050209 , validation accuracy:1.0\n",
      "Epoch 17, CIFAR-10 Batch 2:  validation loss:0.029643110930919647 , validation accuracy:1.0\n",
      "Epoch 17, CIFAR-10 Batch 3:  validation loss:0.027676181867718697 , validation accuracy:1.0\n",
      "Epoch 17, CIFAR-10 Batch 4:  validation loss:0.07081449776887894 , validation accuracy:1.0\n",
      "Epoch 17, CIFAR-10 Batch 5:  validation loss:0.0168316550552845 , validation accuracy:1.0\n",
      "Epoch 18, CIFAR-10 Batch 1:  validation loss:0.023692965507507324 , validation accuracy:1.0\n",
      "Epoch 18, CIFAR-10 Batch 2:  validation loss:0.03813935071229935 , validation accuracy:1.0\n",
      "Epoch 18, CIFAR-10 Batch 3:  validation loss:0.019715934991836548 , validation accuracy:1.0\n",
      "Epoch 18, CIFAR-10 Batch 4:  validation loss:0.031410109251737595 , validation accuracy:1.0\n",
      "Epoch 18, CIFAR-10 Batch 5:  validation loss:0.022886034101247787 , validation accuracy:1.0\n",
      "Epoch 19, CIFAR-10 Batch 1:  validation loss:0.0458335280418396 , validation accuracy:0.9749999642372131\n",
      "Epoch 19, CIFAR-10 Batch 2:  validation loss:0.008534933440387249 , validation accuracy:1.0\n",
      "Epoch 19, CIFAR-10 Batch 3:  validation loss:0.00940888561308384 , validation accuracy:1.0\n",
      "Epoch 19, CIFAR-10 Batch 4:  validation loss:0.02287275344133377 , validation accuracy:1.0\n",
      "Epoch 19, CIFAR-10 Batch 5:  validation loss:0.018234914168715477 , validation accuracy:1.0\n",
      "Epoch 20, CIFAR-10 Batch 1:  validation loss:0.030626602470874786 , validation accuracy:1.0\n",
      "Epoch 20, CIFAR-10 Batch 2:  validation loss:0.021575644612312317 , validation accuracy:1.0\n",
      "Epoch 20, CIFAR-10 Batch 3:  validation loss:0.005894980859011412 , validation accuracy:1.0\n",
      "Epoch 20, CIFAR-10 Batch 4:  validation loss:0.018660176545381546 , validation accuracy:1.0\n",
      "Epoch 20, CIFAR-10 Batch 5:  validation loss:0.022337250411510468 , validation accuracy:1.0\n",
      "Epoch 21, CIFAR-10 Batch 1:  validation loss:0.03946741670370102 , validation accuracy:1.0\n",
      "Epoch 21, CIFAR-10 Batch 2:  validation loss:0.015251092612743378 , validation accuracy:1.0\n",
      "Epoch 21, CIFAR-10 Batch 3:  validation loss:0.0029128219466656446 , validation accuracy:1.0\n",
      "Epoch 21, CIFAR-10 Batch 4:  validation loss:0.014096745289862156 , validation accuracy:1.0\n",
      "Epoch 21, CIFAR-10 Batch 5:  validation loss:0.008999796584248543 , validation accuracy:1.0\n",
      "Epoch 22, CIFAR-10 Batch 1:  validation loss:0.020813480019569397 , validation accuracy:1.0\n",
      "Epoch 22, CIFAR-10 Batch 2:  validation loss:0.011276702396571636 , validation accuracy:1.0\n",
      "Epoch 22, CIFAR-10 Batch 3:  validation loss:0.004927803296595812 , validation accuracy:1.0\n",
      "Epoch 22, CIFAR-10 Batch 4:  validation loss:0.009764866903424263 , validation accuracy:1.0\n",
      "Epoch 22, CIFAR-10 Batch 5:  validation loss:0.002397234318777919 , validation accuracy:1.0\n",
      "Epoch 23, CIFAR-10 Batch 1:  validation loss:0.013507570140063763 , validation accuracy:1.0\n",
      "Epoch 23, CIFAR-10 Batch 2:  validation loss:0.017693519592285156 , validation accuracy:1.0\n",
      "Epoch 23, CIFAR-10 Batch 3:  validation loss:0.002072027185931802 , validation accuracy:1.0\n",
      "Epoch 23, CIFAR-10 Batch 4:  validation loss:0.005152176599949598 , validation accuracy:1.0\n",
      "Epoch 23, CIFAR-10 Batch 5:  validation loss:0.001894335146062076 , validation accuracy:1.0\n",
      "Epoch 24, CIFAR-10 Batch 1:  validation loss:0.016326580196619034 , validation accuracy:1.0\n",
      "Epoch 24, CIFAR-10 Batch 2:  validation loss:0.009687529876828194 , validation accuracy:1.0\n",
      "Epoch 24, CIFAR-10 Batch 3:  validation loss:0.0023341786582022905 , validation accuracy:1.0\n",
      "Epoch 24, CIFAR-10 Batch 4:  validation loss:0.006638094317167997 , validation accuracy:1.0\n",
      "Epoch 24, CIFAR-10 Batch 5:  validation loss:0.004074818454682827 , validation accuracy:1.0\n",
      "Epoch 25, CIFAR-10 Batch 1:  validation loss:0.009261766448616982 , validation accuracy:1.0\n",
      "Epoch 25, CIFAR-10 Batch 2:  validation loss:0.007266999687999487 , validation accuracy:1.0\n",
      "Epoch 25, CIFAR-10 Batch 3:  validation loss:0.0009418863337486982 , validation accuracy:1.0\n",
      "Epoch 25, CIFAR-10 Batch 4:  validation loss:0.004426894243806601 , validation accuracy:1.0\n",
      "Epoch 25, CIFAR-10 Batch 5:  validation loss:0.0038275541737675667 , validation accuracy:1.0\n",
      "Epoch 26, CIFAR-10 Batch 1:  validation loss:0.01011733990162611 , validation accuracy:1.0\n",
      "Epoch 26, CIFAR-10 Batch 2:  validation loss:0.017262503504753113 , validation accuracy:1.0\n",
      "Epoch 26, CIFAR-10 Batch 3:  validation loss:0.005705795716494322 , validation accuracy:1.0\n",
      "Epoch 26, CIFAR-10 Batch 4:  validation loss:0.004279474262148142 , validation accuracy:1.0\n",
      "Epoch 26, CIFAR-10 Batch 5:  validation loss:0.002893580822274089 , validation accuracy:1.0\n",
      "Epoch 27, CIFAR-10 Batch 1:  validation loss:0.0015479258727282286 , validation accuracy:1.0\n",
      "Epoch 27, CIFAR-10 Batch 2:  validation loss:0.003999670501798391 , validation accuracy:1.0\n",
      "Epoch 27, CIFAR-10 Batch 3:  validation loss:0.00029368611285462976 , validation accuracy:1.0\n",
      "Epoch 27, CIFAR-10 Batch 4:  validation loss:0.0062166852876544 , validation accuracy:1.0\n",
      "Epoch 27, CIFAR-10 Batch 5:  validation loss:0.005773888435214758 , validation accuracy:1.0\n",
      "Epoch 28, CIFAR-10 Batch 1:  validation loss:0.0045450180768966675 , validation accuracy:1.0\n",
      "Epoch 28, CIFAR-10 Batch 2:  validation loss:0.003391302190721035 , validation accuracy:1.0\n",
      "Epoch 28, CIFAR-10 Batch 3:  validation loss:0.0009675194742158055 , validation accuracy:1.0\n",
      "Epoch 28, CIFAR-10 Batch 4:  validation loss:0.0068855588324368 , validation accuracy:1.0\n",
      "Epoch 28, CIFAR-10 Batch 5:  validation loss:0.0032763974741101265 , validation accuracy:1.0\n",
      "Epoch 29, CIFAR-10 Batch 1:  validation loss:0.002478773472830653 , validation accuracy:1.0\n",
      "Epoch 29, CIFAR-10 Batch 2:  validation loss:0.006118067540228367 , validation accuracy:1.0\n",
      "Epoch 29, CIFAR-10 Batch 3:  validation loss:0.0006723597762174904 , validation accuracy:1.0\n",
      "Epoch 29, CIFAR-10 Batch 4:  validation loss:0.002257506363093853 , validation accuracy:1.0\n",
      "Epoch 29, CIFAR-10 Batch 5:  validation loss:0.006278340704739094 , validation accuracy:1.0\n",
      "Epoch 30, CIFAR-10 Batch 1:  validation loss:0.0027862268034368753 , validation accuracy:1.0\n",
      "Epoch 30, CIFAR-10 Batch 2:  validation loss:0.0033702447544783354 , validation accuracy:1.0\n",
      "Epoch 30, CIFAR-10 Batch 3:  validation loss:0.0014171653892844915 , validation accuracy:1.0\n",
      "Epoch 30, CIFAR-10 Batch 4:  validation loss:0.0025028185918927193 , validation accuracy:1.0\n",
      "Epoch 30, CIFAR-10 Batch 5:  validation loss:0.0024044616147875786 , validation accuracy:1.0\n",
      "Epoch 31, CIFAR-10 Batch 1:  validation loss:0.003119882196187973 , validation accuracy:1.0\n",
      "Epoch 31, CIFAR-10 Batch 2:  validation loss:0.0012702805688604712 , validation accuracy:1.0\n",
      "Epoch 31, CIFAR-10 Batch 3:  validation loss:0.002704200567677617 , validation accuracy:1.0\n",
      "Epoch 31, CIFAR-10 Batch 4:  validation loss:0.002249989192932844 , validation accuracy:1.0\n",
      "Epoch 31, CIFAR-10 Batch 5:  validation loss:0.00591792818158865 , validation accuracy:1.0\n",
      "Epoch 32, CIFAR-10 Batch 1:  validation loss:0.001230407739058137 , validation accuracy:1.0\n",
      "Epoch 32, CIFAR-10 Batch 2:  validation loss:0.0006895205588079989 , validation accuracy:1.0\n",
      "Epoch 32, CIFAR-10 Batch 3:  validation loss:0.0007755056722089648 , validation accuracy:1.0\n",
      "Epoch 32, CIFAR-10 Batch 4:  validation loss:0.004371422342956066 , validation accuracy:1.0\n",
      "Epoch 32, CIFAR-10 Batch 5:  validation loss:0.0010041545610874891 , validation accuracy:1.0\n",
      "Epoch 33, CIFAR-10 Batch 1:  validation loss:0.0005404163966886699 , validation accuracy:1.0\n",
      "Epoch 33, CIFAR-10 Batch 2:  validation loss:0.0011476550716906786 , validation accuracy:1.0\n",
      "Epoch 33, CIFAR-10 Batch 3:  validation loss:0.002525875810533762 , validation accuracy:1.0\n",
      "Epoch 33, CIFAR-10 Batch 4:  validation loss:0.0004097316414117813 , validation accuracy:1.0\n",
      "Epoch 33, CIFAR-10 Batch 5:  validation loss:0.0021021044813096523 , validation accuracy:1.0\n",
      "Epoch 34, CIFAR-10 Batch 1:  validation loss:0.0012259571813046932 , validation accuracy:1.0\n",
      "Epoch 34, CIFAR-10 Batch 2:  validation loss:0.0012406143359839916 , validation accuracy:1.0\n",
      "Epoch 34, CIFAR-10 Batch 3:  validation loss:0.0011768550612032413 , validation accuracy:1.0\n",
      "Epoch 34, CIFAR-10 Batch 4:  validation loss:0.0014290274120867252 , validation accuracy:1.0\n",
      "Epoch 34, CIFAR-10 Batch 5:  validation loss:0.001911916770040989 , validation accuracy:1.0\n",
      "Epoch 35, CIFAR-10 Batch 1:  validation loss:0.001923560630530119 , validation accuracy:1.0\n",
      "Epoch 35, CIFAR-10 Batch 2:  validation loss:0.001030682004056871 , validation accuracy:1.0\n",
      "Epoch 35, CIFAR-10 Batch 3:  validation loss:0.005967157427221537 , validation accuracy:1.0\n",
      "Epoch 35, CIFAR-10 Batch 4:  validation loss:0.0014763647923246026 , validation accuracy:1.0\n",
      "Epoch 35, CIFAR-10 Batch 5:  validation loss:0.0017928526503965259 , validation accuracy:1.0\n",
      "Epoch 36, CIFAR-10 Batch 1:  validation loss:0.004337791353464127 , validation accuracy:1.0\n",
      "Epoch 36, CIFAR-10 Batch 2:  validation loss:0.0019610607996582985 , validation accuracy:1.0\n",
      "Epoch 36, CIFAR-10 Batch 3:  validation loss:0.001851564971730113 , validation accuracy:1.0\n",
      "Epoch 36, CIFAR-10 Batch 4:  validation loss:0.001298238872550428 , validation accuracy:1.0\n",
      "Epoch 36, CIFAR-10 Batch 5:  validation loss:0.002637749770656228 , validation accuracy:1.0\n",
      "Epoch 37, CIFAR-10 Batch 1:  validation loss:0.0016944537637755275 , validation accuracy:1.0\n",
      "Epoch 37, CIFAR-10 Batch 2:  validation loss:0.0014158355770632625 , validation accuracy:1.0\n",
      "Epoch 37, CIFAR-10 Batch 3:  validation loss:0.0007755254628136754 , validation accuracy:1.0\n",
      "Epoch 37, CIFAR-10 Batch 4:  validation loss:0.00456642173230648 , validation accuracy:1.0\n",
      "Epoch 37, CIFAR-10 Batch 5:  validation loss:0.00010764573380583897 , validation accuracy:1.0\n",
      "Epoch 38, CIFAR-10 Batch 1:  validation loss:0.0025269840843975544 , validation accuracy:1.0\n",
      "Epoch 38, CIFAR-10 Batch 2:  validation loss:0.0002132808876922354 , validation accuracy:1.0\n",
      "Epoch 38, CIFAR-10 Batch 3:  validation loss:0.0019835983403027058 , validation accuracy:1.0\n",
      "Epoch 38, CIFAR-10 Batch 4:  validation loss:0.0013889909023419023 , validation accuracy:1.0\n",
      "Epoch 38, CIFAR-10 Batch 5:  validation loss:0.0018200053600594401 , validation accuracy:1.0\n",
      "Epoch 39, CIFAR-10 Batch 1:  validation loss:0.0006388782057911158 , validation accuracy:1.0\n",
      "Epoch 39, CIFAR-10 Batch 2:  validation loss:0.0012371698394417763 , validation accuracy:1.0\n",
      "Epoch 39, CIFAR-10 Batch 3:  validation loss:0.0016276342794299126 , validation accuracy:1.0\n",
      "Epoch 39, CIFAR-10 Batch 4:  validation loss:0.00034974294248968363 , validation accuracy:1.0\n",
      "Epoch 39, CIFAR-10 Batch 5:  validation loss:0.0018196895252913237 , validation accuracy:1.0\n",
      "Epoch 40, CIFAR-10 Batch 1:  validation loss:0.0014576201792806387 , validation accuracy:1.0\n",
      "Epoch 40, CIFAR-10 Batch 2:  validation loss:0.0010328330099582672 , validation accuracy:1.0\n",
      "Epoch 40, CIFAR-10 Batch 3:  validation loss:0.001141436048783362 , validation accuracy:1.0\n",
      "Epoch 40, CIFAR-10 Batch 4:  validation loss:0.0001424422807758674 , validation accuracy:1.0\n",
      "Epoch 40, CIFAR-10 Batch 5:  validation loss:0.0007055652095004916 , validation accuracy:1.0\n"
     ]
    }
   ],
   "source": [
    "\"\"\"\n",
    "DON'T MODIFY ANYTHING IN THIS CELL\n",
    "\"\"\"\n",
    "save_model_path = './image_classification'\n",
    "\n",
    "print('Training...')\n",
    "with tf.Session() as sess:\n",
    "    # Initializing the variables\n",
    "    sess.run(tf.global_variables_initializer())\n",
    "    \n",
    "    # Training cycle\n",
    "    for epoch in range(epochs):\n",
    "        # Loop over all batches\n",
    "        n_batches = 5\n",
    "        for batch_i in range(1, n_batches + 1):\n",
    "            for batch_features, batch_labels in helper.load_preprocess_training_batch(batch_i, batch_size):\n",
    "                train_neural_network(sess, optimizer, keep_probability, batch_features, batch_labels)\n",
    "            print('Epoch {:>2}, CIFAR-10 Batch {}:  '.format(epoch + 1, batch_i), end='')\n",
    "            print_stats(sess, batch_features, batch_labels, cost, accuracy)\n",
    "            \n",
    "    # Save Model\n",
    "    saver = tf.train.Saver()\n",
    "    save_path = saver.save(sess, save_model_path)"
   ]
  },
  {
   "cell_type": "markdown",
   "metadata": {
    "deletable": true,
    "editable": true
   },
   "source": [
    "# Checkpoint\n",
    "The model has been saved to disk.\n",
    "## Test Model\n",
    "Test your model against the test dataset.  This will be your final accuracy. You should have an accuracy greater than 50%. If you don't, keep tweaking the model architecture and parameters."
   ]
  },
  {
   "cell_type": "code",
   "execution_count": 39,
   "metadata": {
    "collapsed": false,
    "deletable": true,
    "editable": true
   },
   "outputs": [
    {
     "name": "stdout",
     "output_type": "stream",
     "text": [
      "Testing Accuracy: 0.6808742088607594\n",
      "\n"
     ]
    },
    {
     "data": {
      "image/png": "[encoded data removed]",
      "text/plain": [
       "<matplotlib.figure.Figure at 0x7f0ed98e7240>"
      ]
     },
     "metadata": {
      "image/png": {
       "height": 319,
       "width": 349
      }
     },
     "output_type": "display_data"
    }
   ],
   "source": [
    "\"\"\"\n",
    "DON'T MODIFY ANYTHING IN THIS CELL\n",
    "\"\"\"\n",
    "%matplotlib inline\n",
    "%config InlineBackend.figure_format = 'retina'\n",
    "\n",
    "import tensorflow as tf\n",
    "import pickle\n",
    "import helper\n",
    "import random\n",
    "\n",
    "# Set batch size if not already set\n",
    "try:\n",
    "    if batch_size:\n",
    "        pass\n",
    "except NameError:\n",
    "    batch_size = 64\n",
    "\n",
    "save_model_path = './image_classification'\n",
    "n_samples = 4\n",
    "top_n_predictions = 3\n",
    "\n",
    "def test_model():\n",
    "    \"\"\"\n",
    "    Test the saved model against the test dataset\n",
    "    \"\"\"\n",
    "\n",
    "    test_features, test_labels = pickle.load(open('preprocess_test.p', mode='rb'))\n",
    "    loaded_graph = tf.Graph()\n",
    "\n",
    "    with tf.Session(graph=loaded_graph) as sess:\n",
    "        # Load model\n",
    "        loader = tf.train.import_meta_graph(save_model_path + '.meta')\n",
    "        loader.restore(sess, save_model_path)\n",
    "\n",
    "        # Get Tensors from loaded model\n",
    "        loaded_x = loaded_graph.get_tensor_by_name('x:0')\n",
    "        loaded_y = loaded_graph.get_tensor_by_name('y:0')\n",
    "        loaded_keep_prob = loaded_graph.get_tensor_by_name('keep_prob:0')\n",
    "        loaded_logits = loaded_graph.get_tensor_by_name('logits:0')\n",
    "        loaded_acc = loaded_graph.get_tensor_by_name('accuracy:0')\n",
    "        \n",
    "        # Get accuracy in batches for memory limitations\n",
    "        test_batch_acc_total = 0\n",
    "        test_batch_count = 0\n",
    "        \n",
    "        for test_feature_batch, test_label_batch in helper.batch_features_labels(test_features, test_labels, batch_size):\n",
    "            test_batch_acc_total += sess.run(\n",
    "                loaded_acc,\n",
    "                feed_dict={loaded_x: test_feature_batch, loaded_y: test_label_batch, loaded_keep_prob: 1.0})\n",
    "            test_batch_count += 1\n",
    "\n",
    "        print('Testing Accuracy: {}\\n'.format(test_batch_acc_total/test_batch_count))\n",
    "\n",
    "        # Print Random Samples\n",
    "        random_test_features, random_test_labels = tuple(zip(*random.sample(list(zip(test_features, test_labels)), n_samples)))\n",
    "        random_test_predictions = sess.run(\n",
    "            tf.nn.top_k(tf.nn.softmax(loaded_logits), top_n_predictions),\n",
    "            feed_dict={loaded_x: random_test_features, loaded_y: random_test_labels, loaded_keep_prob: 1.0})\n",
    "        helper.display_image_predictions(random_test_features, random_test_labels, random_test_predictions)\n",
    "\n",
    "\n",
    "test_model()"
   ]
  },
  {
   "cell_type": "markdown",
   "metadata": {
    "deletable": true,
    "editable": true
   },
   "source": [
    "## Why 50-80% Accuracy?\n",
    "You might be wondering why you can't get an accuracy any higher. First things first, 50% isn't bad for a simple CNN.  Pure guessing would get you 10% accuracy. However, you might notice people are getting scores [well above 80%](http://rodrigob.github.io/are_we_there_yet/build/classification_datasets_results.html#43494641522d3130).  That's because we haven't taught you all there is to know about neural networks. We still need to cover a few more techniques.\n",
    "## Submitting This Project\n",
    "When submitting this project, make sure to run all the cells before saving the notebook.  Save the notebook file as \"dlnd_image_classification.ipynb\" and save it as a HTML file under \"File\" -> \"Download as\".  Include the \"helper.py\" and \"problem_unittests.py\" files in your submission."
   ]
  }
 ],
 "metadata": {
  "kernelspec": {
   "display_name": "Python 3",
   "language": "python",
   "name": "python3"
  },
  "language_info": {
   "codemirror_mode": {
    "name": "ipython",
    "version": 3
   },
   "file_extension": ".py",
   "mimetype": "text/x-python",
   "name": "python",
   "nbconvert_exporter": "python",
   "pygments_lexer": "ipython3",
   "version": "3.6.1"
  }
 },
 "nbformat": 4,
 "nbformat_minor": 0
}
